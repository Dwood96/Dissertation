{
 "cells": [
  {
   "cell_type": "code",
   "execution_count": 6,
   "id": "f96959c4",
   "metadata": {},
   "outputs": [],
   "source": [
    "# This code was inpsired by this YouTube video: https://www.youtube.com/watch?v=MpIi4HtCiVk\n",
    "import nltk\n",
    "from nltk import sent_tokenize, word_tokenize\n",
    "from nltk.stem.snowball import SnowballStemmer\n",
    "from nltk.stem.wordnet import WordNetLemmatizer\n",
    "from nltk.corpus import stopwords\n",
    "import pandas as pd\n",
    "import numpy as np\n",
    "import re\n",
    "import snscrape.modules.twitter as sntwitter"
   ]
  },
  {
   "cell_type": "code",
   "execution_count": 2,
   "id": "54d758fc",
   "metadata": {},
   "outputs": [
    {
     "name": "stderr",
     "output_type": "stream",
     "text": [
      "/var/folders/j1/xwlyd2kd5hb4q6nbz5k6s9v80000gn/T/ipykernel_1422/426117422.py:9: FutureWarning: username is deprecated, use user.username instead\n",
      "  tweets.append([tweet.date, tweet.username, tweet.content])\n"
     ]
    }
   ],
   "source": [
    "import snscrape.modules.twitter as sntwitter\n",
    "\n",
    "#code inpsired by: https://github.com/mehranshakarami/AI_Spectrum/blob/main/2022/snscrape/tweets.py\n",
    "\n",
    "query = \"(from:jeremycorbyn) until:2020-01-01 since:2019-01-01\"\n",
    "tweets = []\n",
    "\n",
    "for tweet in sntwitter.TwitterSearchScraper(query).get_items():\n",
    "        tweets.append([tweet.date, tweet.username, tweet.content])\n",
    "   "
   ]
  },
  {
   "cell_type": "code",
   "execution_count": 3,
   "id": "4a08c155",
   "metadata": {},
   "outputs": [
    {
     "name": "stdout",
     "output_type": "stream",
     "text": [
      "                          Date          User  \\\n",
      "0    2019-12-31 09:48:04+00:00  jeremycorbyn   \n",
      "1    2019-12-30 11:49:45+00:00  jeremycorbyn   \n",
      "2    2019-12-29 13:42:57+00:00  jeremycorbyn   \n",
      "3    2019-12-29 12:01:00+00:00  jeremycorbyn   \n",
      "4    2019-12-29 11:15:43+00:00  jeremycorbyn   \n",
      "...                        ...           ...   \n",
      "1858 2019-01-02 09:45:50+00:00  jeremycorbyn   \n",
      "1859 2019-01-02 08:59:59+00:00  jeremycorbyn   \n",
      "1860 2019-01-02 06:59:00+00:00  jeremycorbyn   \n",
      "1861 2019-01-01 14:17:31+00:00  jeremycorbyn   \n",
      "1862 2019-01-01 13:41:13+00:00  jeremycorbyn   \n",
      "\n",
      "                                                  Tweet  \n",
      "0     We’re up for the fight. To protect what we hol...  \n",
      "1     We're not broke, we're being robbed. \\n\\nhttps...  \n",
      "2     How terrible that Chanukah started with a mess...  \n",
      "3     The far right is on the rise, emboldened by a ...  \n",
      "4     Boris Johnson pledged in the election that the...  \n",
      "...                                                 ...  \n",
      "1858  Today the latest Tory rail fares increase kick...  \n",
      "1859  Today rail fares are increasing by more than 3...  \n",
      "1860  Today rail fares across the country are rising...  \n",
      "1861  Happy New Year.\\n\\nIn 2019, let's rebuild Brit...  \n",
      "1862  Thinking of those injured in Manchester last n...  \n",
      "\n",
      "[1863 rows x 3 columns]\n"
     ]
    }
   ],
   "source": [
    "CorbynTweets = pd.DataFrame(tweets, columns=['Date', 'User', 'Tweet'])\n",
    "print(CorbynTweets)"
   ]
  },
  {
   "cell_type": "code",
   "execution_count": 4,
   "id": "e2ddfbf8",
   "metadata": {},
   "outputs": [
    {
     "name": "stderr",
     "output_type": "stream",
     "text": [
      "/var/folders/j1/xwlyd2kd5hb4q6nbz5k6s9v80000gn/T/ipykernel_1422/424202787.py:5: FutureWarning: username is deprecated, use user.username instead\n",
      "  tweets.append([tweet.date, tweet.username, tweet.content])\n"
     ]
    }
   ],
   "source": [
    "query = \"(from:benshapiro) until:2020-01-01 since:2019-01-01\"\n",
    "tweets = []\n",
    "\n",
    "for tweet in sntwitter.TwitterSearchScraper(query).get_items():\n",
    "        tweets.append([tweet.date, tweet.username, tweet.content])"
   ]
  },
  {
   "cell_type": "code",
   "execution_count": 5,
   "id": "07787a0d",
   "metadata": {},
   "outputs": [
    {
     "name": "stdout",
     "output_type": "stream",
     "text": [
      "                          Date        User  \\\n",
      "0    2019-12-31 07:34:32+00:00  benshapiro   \n",
      "1    2019-12-31 07:27:00+00:00  benshapiro   \n",
      "2    2019-12-31 07:24:11+00:00  benshapiro   \n",
      "3    2019-12-31 07:23:26+00:00  benshapiro   \n",
      "4    2019-12-31 07:21:46+00:00  benshapiro   \n",
      "...                        ...         ...   \n",
      "3677 2019-01-01 01:27:27+00:00  benshapiro   \n",
      "3678 2019-01-01 00:43:34+00:00  benshapiro   \n",
      "3679 2019-01-01 00:42:26+00:00  benshapiro   \n",
      "3680 2019-01-01 00:41:53+00:00  benshapiro   \n",
      "3681 2019-01-01 00:28:53+00:00  benshapiro   \n",
      "\n",
      "                                                  Tweet  \n",
      "0     So, here are the updated rankings:\\nI must now...  \n",
      "1     As far as the critique that Luke and Vader bec...  \n",
      "2     So here's what I'm saying: I hated \"Force Awak...  \n",
      "3     They still should have just fast-forwarded the...  \n",
      "4     That doesn't mean the new trilogy was necessar...  \n",
      "...                                                 ...  \n",
      "3677  Wait until he gets going about the invention a...  \n",
      "3678           Actually, do a recipe from Pow Wow Chow!  \n",
      "3679                  Now do AOC’s instant pot recipes!  \n",
      "3680  She’s chilling in Cedar Rapids! https://t.co/M...  \n",
      "3681             @realDailyWire https://t.co/6xdNU1PX2B  \n",
      "\n",
      "[3682 rows x 3 columns]\n"
     ]
    }
   ],
   "source": [
    "ShapiroTweets = pd.DataFrame(tweets, columns=['Date', 'User', 'Tweet'])\n",
    "print(ShapiroTweets)"
   ]
  },
  {
   "cell_type": "code",
   "execution_count": 6,
   "id": "d0a08df7",
   "metadata": {},
   "outputs": [
    {
     "name": "stderr",
     "output_type": "stream",
     "text": [
      "/var/folders/j1/xwlyd2kd5hb4q6nbz5k6s9v80000gn/T/ipykernel_1422/684424307.py:5: FutureWarning: username is deprecated, use user.username instead\n",
      "  tweets.append([tweet.date, tweet.username, tweet.content])\n"
     ]
    }
   ],
   "source": [
    "query = \"(from:Nigel_Farage) until:2020-01-01 since:2019-01-01\"\n",
    "tweets = []\n",
    "\n",
    "for tweet in sntwitter.TwitterSearchScraper(query).get_items():\n",
    "        tweets.append([tweet.date, tweet.username, tweet.content])"
   ]
  },
  {
   "cell_type": "code",
   "execution_count": 7,
   "id": "a3bae6bc",
   "metadata": {},
   "outputs": [
    {
     "name": "stdout",
     "output_type": "stream",
     "text": [
      "                          Date          User  \\\n",
      "0    2019-12-31 11:53:39+00:00  Nigel_Farage   \n",
      "1    2019-12-28 14:57:15+00:00  Nigel_Farage   \n",
      "2    2019-12-27 10:57:26+00:00  Nigel_Farage   \n",
      "3    2019-12-24 10:15:44+00:00  Nigel_Farage   \n",
      "4    2019-12-22 15:04:12+00:00  Nigel_Farage   \n",
      "...                        ...           ...   \n",
      "1008 2019-01-07 12:37:15+00:00  Nigel_Farage   \n",
      "1009 2019-01-07 09:49:42+00:00  Nigel_Farage   \n",
      "1010 2019-01-06 09:58:56+00:00  Nigel_Farage   \n",
      "1011 2019-01-05 12:48:40+00:00  Nigel_Farage   \n",
      "1012 2019-01-02 18:30:00+00:00  Nigel_Farage   \n",
      "\n",
      "                                                  Tweet  \n",
      "0     One of the leading cheerleaders of 'Project Fe...  \n",
      "1     It's time for proper investment in our regions...  \n",
      "2     The EU's unelected leader is already pushing f...  \n",
      "3     Read this astonishing obituary and remember wh...  \n",
      "4     \"The stage for Boris was built long ago,” says...  \n",
      "...                                                 ...  \n",
      "1008  Leave Means Leave stands ready for the battle ...  \n",
      "1009                       Back on @LBC tonight at 6pm!  \n",
      "1010  People’s Vote lied about the number of support...  \n",
      "1011  Maybe, just maybe, @GaryLineker should stick t...  \n",
      "1012  I’ll be back on the @LBC airwaves from January...  \n",
      "\n",
      "[1013 rows x 3 columns]\n"
     ]
    }
   ],
   "source": [
    "FarageTweets = pd.DataFrame(tweets, columns=['Date', 'User', 'Tweet'])\n",
    "print(FarageTweets)"
   ]
  },
  {
   "cell_type": "code",
   "execution_count": 8,
   "id": "ceaf61e6",
   "metadata": {},
   "outputs": [
    {
     "name": "stderr",
     "output_type": "stream",
     "text": [
      "/var/folders/j1/xwlyd2kd5hb4q6nbz5k6s9v80000gn/T/ipykernel_1422/3371404533.py:5: FutureWarning: username is deprecated, use user.username instead\n",
      "  tweets.append([tweet.date, tweet.username, tweet.content])\n"
     ]
    }
   ],
   "source": [
    "query = \"(from:OwenJones84) until:2020-01-01 since:2019-01-01\"\n",
    "tweets = []\n",
    "\n",
    "for tweet in sntwitter.TwitterSearchScraper(query).get_items():\n",
    "        tweets.append([tweet.date, tweet.username, tweet.content])"
   ]
  },
  {
   "cell_type": "code",
   "execution_count": 9,
   "id": "e3f034f6",
   "metadata": {},
   "outputs": [
    {
     "name": "stdout",
     "output_type": "stream",
     "text": [
      "                          Date         User  \\\n",
      "0    2019-12-31 18:10:55+00:00  OwenJones84   \n",
      "1    2019-12-31 18:05:32+00:00  OwenJones84   \n",
      "2    2019-12-31 17:54:53+00:00  OwenJones84   \n",
      "3    2019-12-31 17:51:20+00:00  OwenJones84   \n",
      "4    2019-12-31 16:41:34+00:00  OwenJones84   \n",
      "...                        ...          ...   \n",
      "7838 2019-01-01 02:05:46+00:00  OwenJones84   \n",
      "7839 2019-01-01 01:52:45+00:00  OwenJones84   \n",
      "7840 2019-01-01 01:52:02+00:00  OwenJones84   \n",
      "7841 2019-01-01 01:51:52+00:00  OwenJones84   \n",
      "7842 2019-01-01 00:20:40+00:00  OwenJones84   \n",
      "\n",
      "                                                  Tweet  \n",
      "0                             @TahaMArvas yes yes it is  \n",
      "1     It has been an absolute shitter of a year, in ...  \n",
      "2     @Dryad90 hairdresser's away until 6th January,...  \n",
      "3     #2009vs2019 \\n\\nTen years on and here I am, st...  \n",
      "4     The most predictable thing in the world is ant...  \n",
      "...                                                 ...  \n",
      "7838  @EssexCanning He just wants in on the sex, tha...  \n",
      "7839  @EssexCanning Stephen you’ll destroy all credi...  \n",
      "7840                             @a_leesha1 Love you ❤️  \n",
      "7841                     @burg3y Is it my fashion sense  \n",
      "7842  I’m a soppy bastard at the best/worst of times...  \n",
      "\n",
      "[7843 rows x 3 columns]\n"
     ]
    }
   ],
   "source": [
    "JonesTweets = pd.DataFrame(tweets, columns=['Date', 'User', 'Tweet'])\n",
    "print(JonesTweets)"
   ]
  },
  {
   "cell_type": "code",
   "execution_count": 10,
   "id": "06e62565",
   "metadata": {},
   "outputs": [
    {
     "name": "stderr",
     "output_type": "stream",
     "text": [
      "/var/folders/j1/xwlyd2kd5hb4q6nbz5k6s9v80000gn/T/ipykernel_1422/3634706623.py:5: FutureWarning: username is deprecated, use user.username instead\n",
      "  tweets.append([tweet.date, tweet.username, tweet.content])\n"
     ]
    }
   ],
   "source": [
    "query = \"(from:BernieSanders) until:2020-01-01 since:2019-01-01\"\n",
    "tweets = []\n",
    "\n",
    "for tweet in sntwitter.TwitterSearchScraper(query).get_items():\n",
    "        tweets.append([tweet.date, tweet.username, tweet.content])"
   ]
  },
  {
   "cell_type": "code",
   "execution_count": 11,
   "id": "f7bf7c2e",
   "metadata": {},
   "outputs": [
    {
     "name": "stdout",
     "output_type": "stream",
     "text": [
      "                          Date           User  \\\n",
      "0    2019-12-31 21:10:32+00:00  BernieSanders   \n",
      "1    2019-12-31 19:11:16+00:00  BernieSanders   \n",
      "2    2019-12-31 18:38:11+00:00  BernieSanders   \n",
      "3    2019-12-31 18:06:52+00:00  BernieSanders   \n",
      "4    2019-12-31 17:14:03+00:00  BernieSanders   \n",
      "...                        ...            ...   \n",
      "3065 2019-01-01 23:18:44+00:00  BernieSanders   \n",
      "3066 2019-01-01 22:04:46+00:00  BernieSanders   \n",
      "3067 2019-01-01 21:06:04+00:00  BernieSanders   \n",
      "3068 2019-01-01 19:29:28+00:00  BernieSanders   \n",
      "3069 2019-01-01 18:19:09+00:00  BernieSanders   \n",
      "\n",
      "                                                  Tweet  \n",
      "0     We cannot continue to act as though it is norm...  \n",
      "1     Everybody who knows me knows I hate asking for...  \n",
      "2     Don't let anyone tell you that you cannot make...  \n",
      "3     Friends, we are closing in our goal of 5 milli...  \n",
      "4     If you would like to make the pharmaceutical i...  \n",
      "...                                                 ...  \n",
      "3065  If we are serious about reducing income and we...  \n",
      "3066  We must end the absurdity of the United States...  \n",
      "3067  As Frederick Douglass reminded us: \"If there i...  \n",
      "3068  When we talk about justice, we have to underst...  \n",
      "3069  Jane and I want to take this opportunity to wi...  \n",
      "\n",
      "[3070 rows x 3 columns]\n"
     ]
    }
   ],
   "source": [
    "SandersTweets = pd.DataFrame(tweets, columns=['Date', 'User', 'Tweet'])\n",
    "print(SandersTweets)"
   ]
  },
  {
   "cell_type": "code",
   "execution_count": 12,
   "id": "34c2ac60",
   "metadata": {},
   "outputs": [
    {
     "name": "stderr",
     "output_type": "stream",
     "text": [
      "/var/folders/j1/xwlyd2kd5hb4q6nbz5k6s9v80000gn/T/ipykernel_1422/2352529673.py:5: FutureWarning: username is deprecated, use user.username instead\n",
      "  tweets.append([tweet.date, tweet.username, tweet.content])\n"
     ]
    }
   ],
   "source": [
    "query = \"(from:TiceRichard) until:2020-01-01 since:2019-01-01\"\n",
    "tweets = []\n",
    "\n",
    "for tweet in sntwitter.TwitterSearchScraper(query).get_items():\n",
    "        tweets.append([tweet.date, tweet.username, tweet.content])"
   ]
  },
  {
   "cell_type": "code",
   "execution_count": 13,
   "id": "e8d56658",
   "metadata": {},
   "outputs": [
    {
     "name": "stdout",
     "output_type": "stream",
     "text": [
      "                         Date         User  \\\n",
      "0   2019-12-31 23:12:33+00:00  TiceRichard   \n",
      "1   2019-12-31 22:54:20+00:00  TiceRichard   \n",
      "2   2019-12-28 20:26:39+00:00  TiceRichard   \n",
      "3   2019-12-21 08:28:54+00:00  TiceRichard   \n",
      "4   2019-12-20 20:28:11+00:00  TiceRichard   \n",
      "..                        ...          ...   \n",
      "680 2019-01-03 16:12:26+00:00  TiceRichard   \n",
      "681 2019-01-02 11:52:00+00:00  TiceRichard   \n",
      "682 2019-01-01 22:04:54+00:00  TiceRichard   \n",
      "683 2019-01-01 21:31:55+00:00  TiceRichard   \n",
      "684 2019-01-01 21:25:02+00:00  TiceRichard   \n",
      "\n",
      "                                                 Tweet  \n",
      "0    One of the bravest, most principled people I h...  \n",
      "1    Wishing everyone a Happy Brexit Year ahead! So...  \n",
      "2    If this is true then we need to look at additi...  \n",
      "3    Brilliant Brexit gets better by the day as Bor...  \n",
      "4    Nonsense: today you voted again against the wi...  \n",
      "..                                                 ...  \n",
      "680  The PM’s plan to wait and let Christmas magic ...  \n",
      "681  More people support a World Trade Brexit than ...  \n",
      "682  Read and retweet this superb short video https...  \n",
      "683  @JunckerEU @EU_Commission Delusional. The Euro...  \n",
      "684  @JuliaHB1 To be expected by the Mayor...who re...  \n",
      "\n",
      "[685 rows x 3 columns]\n"
     ]
    }
   ],
   "source": [
    "TiceTweets = pd.DataFrame(tweets, columns=['Date', 'User', 'Tweet'])\n",
    "print(TiceTweets)"
   ]
  },
  {
   "cell_type": "code",
   "execution_count": 14,
   "id": "cda62ab0",
   "metadata": {},
   "outputs": [
    {
     "data": {
      "text/html": [
       "<div>\n",
       "<style scoped>\n",
       "    .dataframe tbody tr th:only-of-type {\n",
       "        vertical-align: middle;\n",
       "    }\n",
       "\n",
       "    .dataframe tbody tr th {\n",
       "        vertical-align: top;\n",
       "    }\n",
       "\n",
       "    .dataframe thead th {\n",
       "        text-align: right;\n",
       "    }\n",
       "</style>\n",
       "<table border=\"1\" class=\"dataframe\">\n",
       "  <thead>\n",
       "    <tr style=\"text-align: right;\">\n",
       "      <th></th>\n",
       "      <th>Date</th>\n",
       "      <th>User</th>\n",
       "      <th>Tweet</th>\n",
       "    </tr>\n",
       "  </thead>\n",
       "  <tbody>\n",
       "    <tr>\n",
       "      <th>0</th>\n",
       "      <td>2019-12-31 23:12:33+00:00</td>\n",
       "      <td>TiceRichard</td>\n",
       "      <td>One of the bravest, most principled people I h...</td>\n",
       "    </tr>\n",
       "    <tr>\n",
       "      <th>1</th>\n",
       "      <td>2019-12-31 22:54:20+00:00</td>\n",
       "      <td>TiceRichard</td>\n",
       "      <td>Wishing everyone a Happy Brexit Year ahead! So...</td>\n",
       "    </tr>\n",
       "    <tr>\n",
       "      <th>2</th>\n",
       "      <td>2019-12-28 20:26:39+00:00</td>\n",
       "      <td>TiceRichard</td>\n",
       "      <td>If this is true then we need to look at additi...</td>\n",
       "    </tr>\n",
       "    <tr>\n",
       "      <th>3</th>\n",
       "      <td>2019-12-21 08:28:54+00:00</td>\n",
       "      <td>TiceRichard</td>\n",
       "      <td>Brilliant Brexit gets better by the day as Bor...</td>\n",
       "    </tr>\n",
       "    <tr>\n",
       "      <th>4</th>\n",
       "      <td>2019-12-20 20:28:11+00:00</td>\n",
       "      <td>TiceRichard</td>\n",
       "      <td>Nonsense: today you voted again against the wi...</td>\n",
       "    </tr>\n",
       "    <tr>\n",
       "      <th>...</th>\n",
       "      <td>...</td>\n",
       "      <td>...</td>\n",
       "      <td>...</td>\n",
       "    </tr>\n",
       "    <tr>\n",
       "      <th>3677</th>\n",
       "      <td>2019-01-01 01:27:27+00:00</td>\n",
       "      <td>benshapiro</td>\n",
       "      <td>Wait until he gets going about the invention a...</td>\n",
       "    </tr>\n",
       "    <tr>\n",
       "      <th>3678</th>\n",
       "      <td>2019-01-01 00:43:34+00:00</td>\n",
       "      <td>benshapiro</td>\n",
       "      <td>Actually, do a recipe from Pow Wow Chow!</td>\n",
       "    </tr>\n",
       "    <tr>\n",
       "      <th>3679</th>\n",
       "      <td>2019-01-01 00:42:26+00:00</td>\n",
       "      <td>benshapiro</td>\n",
       "      <td>Now do AOC’s instant pot recipes!</td>\n",
       "    </tr>\n",
       "    <tr>\n",
       "      <th>3680</th>\n",
       "      <td>2019-01-01 00:41:53+00:00</td>\n",
       "      <td>benshapiro</td>\n",
       "      <td>She’s chilling in Cedar Rapids! https://t.co/M...</td>\n",
       "    </tr>\n",
       "    <tr>\n",
       "      <th>3681</th>\n",
       "      <td>2019-01-01 00:28:53+00:00</td>\n",
       "      <td>benshapiro</td>\n",
       "      <td>@realDailyWire https://t.co/6xdNU1PX2B</td>\n",
       "    </tr>\n",
       "  </tbody>\n",
       "</table>\n",
       "<p>5380 rows × 3 columns</p>\n",
       "</div>"
      ],
      "text/plain": [
       "                          Date         User  \\\n",
       "0    2019-12-31 23:12:33+00:00  TiceRichard   \n",
       "1    2019-12-31 22:54:20+00:00  TiceRichard   \n",
       "2    2019-12-28 20:26:39+00:00  TiceRichard   \n",
       "3    2019-12-21 08:28:54+00:00  TiceRichard   \n",
       "4    2019-12-20 20:28:11+00:00  TiceRichard   \n",
       "...                        ...          ...   \n",
       "3677 2019-01-01 01:27:27+00:00   benshapiro   \n",
       "3678 2019-01-01 00:43:34+00:00   benshapiro   \n",
       "3679 2019-01-01 00:42:26+00:00   benshapiro   \n",
       "3680 2019-01-01 00:41:53+00:00   benshapiro   \n",
       "3681 2019-01-01 00:28:53+00:00   benshapiro   \n",
       "\n",
       "                                                  Tweet  \n",
       "0     One of the bravest, most principled people I h...  \n",
       "1     Wishing everyone a Happy Brexit Year ahead! So...  \n",
       "2     If this is true then we need to look at additi...  \n",
       "3     Brilliant Brexit gets better by the day as Bor...  \n",
       "4     Nonsense: today you voted again against the wi...  \n",
       "...                                                 ...  \n",
       "3677  Wait until he gets going about the invention a...  \n",
       "3678           Actually, do a recipe from Pow Wow Chow!  \n",
       "3679                  Now do AOC’s instant pot recipes!  \n",
       "3680  She’s chilling in Cedar Rapids! https://t.co/M...  \n",
       "3681             @realDailyWire https://t.co/6xdNU1PX2B  \n",
       "\n",
       "[5380 rows x 3 columns]"
      ]
     },
     "execution_count": 14,
     "metadata": {},
     "output_type": "execute_result"
    }
   ],
   "source": [
    "conservative_tweets = [TiceTweets, FarageTweets, ShapiroTweets]\n",
    "conservative_tweets_df = pd.concat(conservative_tweets)\n",
    "conservative_tweets_df"
   ]
  },
  {
   "cell_type": "code",
   "execution_count": 15,
   "id": "54e23def",
   "metadata": {},
   "outputs": [
    {
     "data": {
      "text/html": [
       "<div>\n",
       "<style scoped>\n",
       "    .dataframe tbody tr th:only-of-type {\n",
       "        vertical-align: middle;\n",
       "    }\n",
       "\n",
       "    .dataframe tbody tr th {\n",
       "        vertical-align: top;\n",
       "    }\n",
       "\n",
       "    .dataframe thead th {\n",
       "        text-align: right;\n",
       "    }\n",
       "</style>\n",
       "<table border=\"1\" class=\"dataframe\">\n",
       "  <thead>\n",
       "    <tr style=\"text-align: right;\">\n",
       "      <th></th>\n",
       "      <th>Date</th>\n",
       "      <th>User</th>\n",
       "      <th>Tweet</th>\n",
       "    </tr>\n",
       "  </thead>\n",
       "  <tbody>\n",
       "    <tr>\n",
       "      <th>0</th>\n",
       "      <td>2019-12-31 18:10:55+00:00</td>\n",
       "      <td>OwenJones84</td>\n",
       "      <td>@TahaMArvas yes yes it is</td>\n",
       "    </tr>\n",
       "    <tr>\n",
       "      <th>1</th>\n",
       "      <td>2019-12-31 18:05:32+00:00</td>\n",
       "      <td>OwenJones84</td>\n",
       "      <td>It has been an absolute shitter of a year, in ...</td>\n",
       "    </tr>\n",
       "    <tr>\n",
       "      <th>2</th>\n",
       "      <td>2019-12-31 17:54:53+00:00</td>\n",
       "      <td>OwenJones84</td>\n",
       "      <td>@Dryad90 hairdresser's away until 6th January,...</td>\n",
       "    </tr>\n",
       "    <tr>\n",
       "      <th>3</th>\n",
       "      <td>2019-12-31 17:51:20+00:00</td>\n",
       "      <td>OwenJones84</td>\n",
       "      <td>#2009vs2019 \\n\\nTen years on and here I am, st...</td>\n",
       "    </tr>\n",
       "    <tr>\n",
       "      <th>4</th>\n",
       "      <td>2019-12-31 16:41:34+00:00</td>\n",
       "      <td>OwenJones84</td>\n",
       "      <td>The most predictable thing in the world is ant...</td>\n",
       "    </tr>\n",
       "    <tr>\n",
       "      <th>...</th>\n",
       "      <td>...</td>\n",
       "      <td>...</td>\n",
       "      <td>...</td>\n",
       "    </tr>\n",
       "    <tr>\n",
       "      <th>3065</th>\n",
       "      <td>2019-01-01 23:18:44+00:00</td>\n",
       "      <td>BernieSanders</td>\n",
       "      <td>If we are serious about reducing income and we...</td>\n",
       "    </tr>\n",
       "    <tr>\n",
       "      <th>3066</th>\n",
       "      <td>2019-01-01 22:04:46+00:00</td>\n",
       "      <td>BernieSanders</td>\n",
       "      <td>We must end the absurdity of the United States...</td>\n",
       "    </tr>\n",
       "    <tr>\n",
       "      <th>3067</th>\n",
       "      <td>2019-01-01 21:06:04+00:00</td>\n",
       "      <td>BernieSanders</td>\n",
       "      <td>As Frederick Douglass reminded us: \"If there i...</td>\n",
       "    </tr>\n",
       "    <tr>\n",
       "      <th>3068</th>\n",
       "      <td>2019-01-01 19:29:28+00:00</td>\n",
       "      <td>BernieSanders</td>\n",
       "      <td>When we talk about justice, we have to underst...</td>\n",
       "    </tr>\n",
       "    <tr>\n",
       "      <th>3069</th>\n",
       "      <td>2019-01-01 18:19:09+00:00</td>\n",
       "      <td>BernieSanders</td>\n",
       "      <td>Jane and I want to take this opportunity to wi...</td>\n",
       "    </tr>\n",
       "  </tbody>\n",
       "</table>\n",
       "<p>12776 rows × 3 columns</p>\n",
       "</div>"
      ],
      "text/plain": [
       "                          Date           User  \\\n",
       "0    2019-12-31 18:10:55+00:00    OwenJones84   \n",
       "1    2019-12-31 18:05:32+00:00    OwenJones84   \n",
       "2    2019-12-31 17:54:53+00:00    OwenJones84   \n",
       "3    2019-12-31 17:51:20+00:00    OwenJones84   \n",
       "4    2019-12-31 16:41:34+00:00    OwenJones84   \n",
       "...                        ...            ...   \n",
       "3065 2019-01-01 23:18:44+00:00  BernieSanders   \n",
       "3066 2019-01-01 22:04:46+00:00  BernieSanders   \n",
       "3067 2019-01-01 21:06:04+00:00  BernieSanders   \n",
       "3068 2019-01-01 19:29:28+00:00  BernieSanders   \n",
       "3069 2019-01-01 18:19:09+00:00  BernieSanders   \n",
       "\n",
       "                                                  Tweet  \n",
       "0                             @TahaMArvas yes yes it is  \n",
       "1     It has been an absolute shitter of a year, in ...  \n",
       "2     @Dryad90 hairdresser's away until 6th January,...  \n",
       "3     #2009vs2019 \\n\\nTen years on and here I am, st...  \n",
       "4     The most predictable thing in the world is ant...  \n",
       "...                                                 ...  \n",
       "3065  If we are serious about reducing income and we...  \n",
       "3066  We must end the absurdity of the United States...  \n",
       "3067  As Frederick Douglass reminded us: \"If there i...  \n",
       "3068  When we talk about justice, we have to underst...  \n",
       "3069  Jane and I want to take this opportunity to wi...  \n",
       "\n",
       "[12776 rows x 3 columns]"
      ]
     },
     "execution_count": 15,
     "metadata": {},
     "output_type": "execute_result"
    }
   ],
   "source": [
    "liberal_data = (JonesTweets, CorbynTweets, SandersTweets)\n",
    "liberal_tweets = pd.concat(liberal_data)\n",
    "liberal_tweets"
   ]
  },
  {
   "cell_type": "code",
   "execution_count": 21,
   "id": "a557611e",
   "metadata": {},
   "outputs": [
    {
     "name": "stderr",
     "output_type": "stream",
     "text": [
      "/var/folders/j1/xwlyd2kd5hb4q6nbz5k6s9v80000gn/T/ipykernel_50200/653833494.py:5: FutureWarning: username is deprecated, use user.username instead\n",
      "  tweets.append([tweet.date, tweet.username, tweet.content])\n"
     ]
    }
   ],
   "source": [
    "query = \"(from:BBCNews) until:2019-05-01 since:2019-04-01\"\n",
    "tweets = []\n",
    "\n",
    "for tweet in sntwitter.TwitterSearchScraper(query).get_items():\n",
    "        tweets.append([tweet.date, tweet.username, tweet.content])"
   ]
  },
  {
   "cell_type": "code",
   "execution_count": 22,
   "id": "ce33dd7a",
   "metadata": {},
   "outputs": [
    {
     "name": "stdout",
     "output_type": "stream",
     "text": [
      "                          Date     User  \\\n",
      "0    2019-04-30 23:56:52+00:00  BBCNews   \n",
      "1    2019-04-30 23:38:37+00:00  BBCNews   \n",
      "2    2019-04-30 23:06:12+00:00  BBCNews   \n",
      "3    2019-04-30 21:58:04+00:00  BBCNews   \n",
      "4    2019-04-30 21:57:03+00:00  BBCNews   \n",
      "...                        ...      ...   \n",
      "1569 2019-04-01 02:35:54+00:00  BBCNews   \n",
      "1570 2019-04-01 02:11:11+00:00  BBCNews   \n",
      "1571 2019-04-01 00:41:07+00:00  BBCNews   \n",
      "1572 2019-04-01 00:32:08+00:00  BBCNews   \n",
      "1573 2019-04-01 00:16:23+00:00  BBCNews   \n",
      "\n",
      "                                                  Tweet  \n",
      "0     Free cash machines vanishing at alarming rate,...  \n",
      "1     Newspaper headlines: New Brexit rows and what'...  \n",
      "2     Wednesday’s Daily Mail: Wife of ex-Putin crony...  \n",
      "3     Wednesday's Times: Venezuela protestors run do...  \n",
      "4     Wednesday's FT: Trump drops cyber theft demand...  \n",
      "...                                                 ...  \n",
      "1569  Rapper Nipsey Hussle shot dead in Los Angeles ...  \n",
      "1570  Turkey local elections: Early result puts oppo...  \n",
      "1571  Uncovering Nazi massacre of Jews on Belarus bu...  \n",
      "1572  'A lot of the team started to get ill' https:/...  \n",
      "1573  Minimum wage rates rise, but bills go up too h...  \n",
      "\n",
      "[1574 rows x 3 columns]\n"
     ]
    }
   ],
   "source": [
    "BBCHeadlines = pd.DataFrame(tweets, columns=['Date', 'User', 'Tweet'])\n",
    "print(BBCHeadlines)"
   ]
  },
  {
   "cell_type": "code",
   "execution_count": 18,
   "id": "f6f9cfed",
   "metadata": {},
   "outputs": [
    {
     "name": "stderr",
     "output_type": "stream",
     "text": [
      "/var/folders/j1/xwlyd2kd5hb4q6nbz5k6s9v80000gn/T/ipykernel_1422/771497550.py:5: FutureWarning: username is deprecated, use user.username instead\n",
      "  tweets.append([tweet.date, tweet.username, tweet.content])\n"
     ]
    }
   ],
   "source": [
    "query = \"(from:KemiBadenoch) until:2020-01-01 since:2019-01-01\"\n",
    "tweets = []\n",
    "\n",
    "for tweet in sntwitter.TwitterSearchScraper(query).get_items():\n",
    "        tweets.append([tweet.date, tweet.username, tweet.content])"
   ]
  },
  {
   "cell_type": "code",
   "execution_count": 19,
   "id": "452e194b",
   "metadata": {},
   "outputs": [
    {
     "name": "stdout",
     "output_type": "stream",
     "text": [
      "                        Date          User  \\\n",
      "0  2019-12-13 06:33:15+00:00  KemiBadenoch   \n",
      "1  2019-09-27 15:15:51+00:00  KemiBadenoch   \n",
      "2  2019-09-27 15:15:02+00:00  KemiBadenoch   \n",
      "3  2019-08-29 18:21:45+00:00  KemiBadenoch   \n",
      "4  2019-08-23 11:13:24+00:00  KemiBadenoch   \n",
      "5  2019-07-29 06:30:10+00:00  KemiBadenoch   \n",
      "6  2019-07-29 06:29:46+00:00  KemiBadenoch   \n",
      "7  2019-07-29 06:29:30+00:00  KemiBadenoch   \n",
      "8  2019-07-23 12:03:12+00:00  KemiBadenoch   \n",
      "9  2019-06-06 20:36:26+00:00  KemiBadenoch   \n",
      "10 2019-03-19 09:24:03+00:00  KemiBadenoch   \n",
      "11 2019-03-07 21:27:52+00:00  KemiBadenoch   \n",
      "12 2019-02-14 14:33:04+00:00  KemiBadenoch   \n",
      "13 2019-01-28 21:15:20+00:00  KemiBadenoch   \n",
      "\n",
      "                                                Tweet  \n",
      "0   I’m grateful to the nearly 40,000 people who p...  \n",
      "1   I am now on maternity leave but my office is s...  \n",
      "2   My husband and I are delighted to announce the...  \n",
      "3   Applications open today!  Care leavers should ...  \n",
      "4   Care leavers can again apply for exciting one-...  \n",
      "5   And finally apologies to anyone who I have not...  \n",
      "6   Thank you for all good wishes and kind message...  \n",
      "7   I’m humbled to have been appointed a junior mi...  \n",
      "8   Congratulations to @BorisJohnson on winning th...  \n",
      "9   It’s been a privilege to serve as Vice-Chairma...  \n",
      "10  The best article I have read on the Lammy vs C...  \n",
      "11  This is a great thread from @HenryNewman (esp....  \n",
      "12  An extraordinary ad hominem attack on @stephen...  \n",
      "13  Dear @Tesco, Really great that you are importi...  \n"
     ]
    }
   ],
   "source": [
    "BadenochTweets = pd.DataFrame(tweets, columns=['Date', 'User', 'Tweet'])\n",
    "print(BadenochTweets)"
   ]
  },
  {
   "cell_type": "code",
   "execution_count": 20,
   "id": "1a2207a7",
   "metadata": {},
   "outputs": [
    {
     "name": "stderr",
     "output_type": "stream",
     "text": [
      "/var/folders/j1/xwlyd2kd5hb4q6nbz5k6s9v80000gn/T/ipykernel_1422/1715749684.py:6: FutureWarning: username is deprecated, use user.username instead\n",
      "  tweets.append([tweet.date, tweet.username, tweet.content])\n"
     ]
    }
   ],
   "source": [
    "from tqdm.notebook import tqdm\n",
    "query = \"(from:SuellaBraverman) until:2020-01-01 since:2019-01-01\"\n",
    "tweets = []\n",
    "\n",
    "for tweet in sntwitter.TwitterSearchScraper(query).get_items():\n",
    "        tweets.append([tweet.date, tweet.username, tweet.content])"
   ]
  },
  {
   "cell_type": "code",
   "execution_count": 21,
   "id": "fc04f52e",
   "metadata": {},
   "outputs": [
    {
     "name": "stdout",
     "output_type": "stream",
     "text": [
      "                         Date             User  \\\n",
      "0   2019-12-21 15:00:53+00:00  SuellaBraverman   \n",
      "1   2019-12-20 12:16:32+00:00  SuellaBraverman   \n",
      "2   2019-12-16 18:03:06+00:00  SuellaBraverman   \n",
      "3   2019-12-13 05:41:53+00:00  SuellaBraverman   \n",
      "4   2019-12-13 05:02:06+00:00  SuellaBraverman   \n",
      "..                        ...              ...   \n",
      "170 2019-01-16 15:59:08+00:00  SuellaBraverman   \n",
      "171 2019-01-15 11:38:13+00:00  SuellaBraverman   \n",
      "172 2019-01-14 01:13:25+00:00  SuellaBraverman   \n",
      "173 2019-01-11 23:53:42+00:00  SuellaBraverman   \n",
      "174 2019-01-09 19:40:02+00:00  SuellaBraverman   \n",
      "\n",
      "                                                 Tweet  \n",
      "0    Cackling from the SNP is easy to deal with. It...  \n",
      "1    Pleased to back in the @HouseofCommons Chamber...  \n",
      "2    Back to @UKParliament today and looking forwar...  \n",
      "3    Thank you @FarehamTories @Conservatives for yo...  \n",
      "4    Thank you Fareham for re-electing me to serve ...  \n",
      "..                                                 ...  \n",
      "170  Go behind the scenes with three MPs caught up ...  \n",
      "171  I cannot vote for a deal that squanders Brexit...  \n",
      "172  My husband and I are delighted to announce tha...  \n",
      "173  Delighted to join you. Great podcast. https://...  \n",
      "174  Congratulations! Keep swimming. https://t.co/2...  \n",
      "\n",
      "[175 rows x 3 columns]\n"
     ]
    }
   ],
   "source": [
    "BravermanTweets = pd.DataFrame(tweets, columns=['Date', 'User', 'Tweet'])\n",
    "print(BravermanTweets)"
   ]
  },
  {
   "cell_type": "code",
   "execution_count": 22,
   "id": "6a45c6c7",
   "metadata": {},
   "outputs": [
    {
     "name": "stderr",
     "output_type": "stream",
     "text": [
      "/var/folders/j1/xwlyd2kd5hb4q6nbz5k6s9v80000gn/T/ipykernel_1422/1222003687.py:5: FutureWarning: username is deprecated, use user.username instead\n",
      "  tweets.append([tweet.date, tweet.username, tweet.content])\n"
     ]
    }
   ],
   "source": [
    "query = \"(from:cenkuygur) until:2020-01-01 since:2019-01-01\"\n",
    "tweets = []\n",
    "\n",
    "for tweet in sntwitter.TwitterSearchScraper(query).get_items():\n",
    "        tweets.append([tweet.date, tweet.username, tweet.content])"
   ]
  },
  {
   "cell_type": "code",
   "execution_count": 23,
   "id": "c073a837",
   "metadata": {},
   "outputs": [
    {
     "name": "stdout",
     "output_type": "stream",
     "text": [
      "                          Date       User  \\\n",
      "0    2019-12-31 20:15:02+00:00  cenkuygur   \n",
      "1    2019-12-31 19:29:07+00:00  cenkuygur   \n",
      "2    2019-12-31 19:25:32+00:00  cenkuygur   \n",
      "3    2019-12-31 19:22:26+00:00  cenkuygur   \n",
      "4    2019-12-31 19:12:41+00:00  cenkuygur   \n",
      "...                        ...        ...   \n",
      "1675 2019-01-02 21:53:17+00:00  cenkuygur   \n",
      "1676 2019-01-02 04:53:07+00:00  cenkuygur   \n",
      "1677 2019-01-01 20:38:41+00:00  cenkuygur   \n",
      "1678 2019-01-01 20:34:43+00:00  cenkuygur   \n",
      "1679 2019-01-01 17:49:43+00:00  cenkuygur   \n",
      "\n",
      "                                                  Tweet  \n",
      "0     Majority of Americans support progressive poli...  \n",
      "1     Here is a video of me talking to volunteers on...  \n",
      "2     Here is a video of a lifelong Republican who h...  \n",
      "3     Here is a video that I made at a homeless enca...  \n",
      "4     In case, you're not following me on Facebook, ...  \n",
      "...                                                 ...  \n",
      "1675  This is no-brainer. All progressives should vo...  \n",
      "1676  I can't tell if a wrestler or gangsta rapper w...  \n",
      "1677  This is how you can contribute after you hear ...  \n",
      "1678  If you want to do something amazing with your ...  \n",
      "1679  Socialist Nomiki Konst Running for NYC Public ...  \n",
      "\n",
      "[1680 rows x 3 columns]\n"
     ]
    }
   ],
   "source": [
    "UygurTweets = pd.DataFrame(tweets, columns=['Date', 'User', 'Tweet'])\n",
    "print(UygurTweets)"
   ]
  },
  {
   "cell_type": "code",
   "execution_count": 24,
   "id": "a2e1e1c1",
   "metadata": {},
   "outputs": [
    {
     "name": "stderr",
     "output_type": "stream",
     "text": [
      "/var/folders/j1/xwlyd2kd5hb4q6nbz5k6s9v80000gn/T/ipykernel_1422/4183823425.py:5: FutureWarning: username is deprecated, use user.username instead\n",
      "  tweets.append([tweet.date, tweet.username, tweet.content])\n"
     ]
    }
   ],
   "source": [
    "query = \"(from:jimmy_dore) until:2020-01-01 since:2019-01-01\"\n",
    "tweets = []\n",
    "\n",
    "for tweet in sntwitter.TwitterSearchScraper(query).get_items():\n",
    "        tweets.append([tweet.date, tweet.username, tweet.content])"
   ]
  },
  {
   "cell_type": "code",
   "execution_count": 25,
   "id": "395f89d3",
   "metadata": {},
   "outputs": [
    {
     "name": "stdout",
     "output_type": "stream",
     "text": [
      "                          Date        User  \\\n",
      "0    2019-12-31 22:20:03+00:00  jimmy_dore   \n",
      "1    2019-12-31 21:29:46+00:00  jimmy_dore   \n",
      "2    2019-12-31 21:23:59+00:00  jimmy_dore   \n",
      "3    2019-12-28 09:09:24+00:00  jimmy_dore   \n",
      "4    2019-12-27 20:49:01+00:00  jimmy_dore   \n",
      "...                        ...         ...   \n",
      "1613 2019-01-01 20:49:36+00:00  jimmy_dore   \n",
      "1614 2019-01-01 20:48:36+00:00  jimmy_dore   \n",
      "1615 2019-01-01 18:54:28+00:00  jimmy_dore   \n",
      "1616 2019-01-01 18:21:06+00:00  jimmy_dore   \n",
      "1617 2019-01-01 16:52:21+00:00  jimmy_dore   \n",
      "\n",
      "                                                  Tweet  \n",
      "0     PORTLAND!! We will see you on Saturday, Januar...  \n",
      "1                                                #Comey  \n",
      "2     So unusual that cops would lie for almost no r...  \n",
      "3     Thanks to a great crowd in Honolulu for making...  \n",
      "4     @EliotHiggins @Helenasgallery https://t.co/y3B...  \n",
      "...                                                 ...  \n",
      "1613  @bqqmer76 @JimmyDoreShow looks just my old nei...  \n",
      "1614               @8826markb jimmy@jimmydorecomedy.com  \n",
      "1615  European Neoliberal Politician defends corpora...  \n",
      "1616  Rick Perry Pushes Israel Loyalty Oath For Amer...  \n",
      "1617  Chuck Schumer Says He’s “Wining” Gov. Shutdown...  \n",
      "\n",
      "[1618 rows x 3 columns]\n"
     ]
    }
   ],
   "source": [
    "DoreTweets = pd.DataFrame(tweets, columns=['Date', 'User', 'Tweet'])\n",
    "print(DoreTweets)"
   ]
  },
  {
   "cell_type": "code",
   "execution_count": 26,
   "id": "3aa12571",
   "metadata": {},
   "outputs": [
    {
     "name": "stderr",
     "output_type": "stream",
     "text": [
      "/var/folders/j1/xwlyd2kd5hb4q6nbz5k6s9v80000gn/T/ipykernel_1422/2569356461.py:5: FutureWarning: username is deprecated, use user.username instead\n",
      "  tweets.append([tweet.date, tweet.username, tweet.content])\n"
     ]
    }
   ],
   "source": [
    "query = \"(from:AnnCoulter) until:2020-01-01 since:2019-01-01\"\n",
    "tweets = []\n",
    "\n",
    "for tweet in sntwitter.TwitterSearchScraper(query).get_items():\n",
    "        tweets.append([tweet.date, tweet.username, tweet.content])"
   ]
  },
  {
   "cell_type": "code",
   "execution_count": 27,
   "id": "3f0b4fb6",
   "metadata": {},
   "outputs": [
    {
     "name": "stdout",
     "output_type": "stream",
     "text": [
      "                          Date        User  \\\n",
      "0    2019-12-30 16:48:57+00:00  AnnCoulter   \n",
      "1    2019-12-29 17:51:04+00:00  AnnCoulter   \n",
      "2    2019-12-29 17:49:51+00:00  AnnCoulter   \n",
      "3    2019-12-29 07:23:35+00:00  AnnCoulter   \n",
      "4    2019-12-29 00:01:25+00:00  AnnCoulter   \n",
      "...                        ...         ...   \n",
      "2681 2019-01-02 16:25:17+00:00  AnnCoulter   \n",
      "2682 2019-01-02 16:24:17+00:00  AnnCoulter   \n",
      "2683 2019-01-02 16:23:27+00:00  AnnCoulter   \n",
      "2684 2019-01-02 05:17:45+00:00  AnnCoulter   \n",
      "2685 2019-01-01 17:07:25+00:00  AnnCoulter   \n",
      "\n",
      "                                                  Tweet  \n",
      "0     CORRECTION: No one's for cutting \"education\" o...  \n",
      "1     Well, Jared did work on releasing all those cr...  \n",
      "2     Just like global warming!  The debate is OVER....  \n",
      "3     A male cop partner would have come in handy: \\...  \n",
      "4            I love this video. https://t.co/SMgxGMm0Hx  \n",
      "...                                                 ...  \n",
      "2681  Our new country's going to be GREAT! https://t...  \n",
      "2682  How would THAT help Wall Street? https://t.co/...  \n",
      "2683         I'm coming up on @MarkSimoneNY 710-WOR NY!  \n",
      "2684  Our new country's going to be GREAT! https://t...  \n",
      "2685            Girls are mean. https://t.co/CU5tXHU9vg  \n",
      "\n",
      "[2686 rows x 3 columns]\n"
     ]
    }
   ],
   "source": [
    "CoulterTweets = pd.DataFrame(tweets, columns=['Date', 'User', 'Tweet'])\n",
    "print(CoulterTweets)"
   ]
  },
  {
   "cell_type": "code",
   "execution_count": 28,
   "id": "a954b647",
   "metadata": {},
   "outputs": [],
   "source": [
    "query = \"(from:scrowder) until:2020-01-01 since:2019-01-01\"\n",
    "tweets = []\n",
    "\n",
    "for tweet in sntwitter.TwitterSearchScraper(query).get_items():\n",
    "        tweets.append([tweet.date, tweet.username, tweet.content])"
   ]
  },
  {
   "cell_type": "code",
   "execution_count": 29,
   "id": "d18e28c1",
   "metadata": {},
   "outputs": [
    {
     "name": "stdout",
     "output_type": "stream",
     "text": [
      "Empty DataFrame\n",
      "Columns: [Date, User, Tweet]\n",
      "Index: []\n"
     ]
    }
   ],
   "source": [
    "CrowderTweets = pd.DataFrame(tweets, columns=['Date', 'User', 'Tweet'])\n",
    "print(CrowderTweets)"
   ]
  },
  {
   "cell_type": "code",
   "execution_count": 30,
   "id": "6342f13e",
   "metadata": {},
   "outputs": [
    {
     "data": {
      "text/html": [
       "<div>\n",
       "<style scoped>\n",
       "    .dataframe tbody tr th:only-of-type {\n",
       "        vertical-align: middle;\n",
       "    }\n",
       "\n",
       "    .dataframe tbody tr th {\n",
       "        vertical-align: top;\n",
       "    }\n",
       "\n",
       "    .dataframe thead th {\n",
       "        text-align: right;\n",
       "    }\n",
       "</style>\n",
       "<table border=\"1\" class=\"dataframe\">\n",
       "  <thead>\n",
       "    <tr style=\"text-align: right;\">\n",
       "      <th></th>\n",
       "      <th>Date</th>\n",
       "      <th>User</th>\n",
       "      <th>Tweet</th>\n",
       "    </tr>\n",
       "  </thead>\n",
       "  <tbody>\n",
       "    <tr>\n",
       "      <th>0</th>\n",
       "      <td>2019-12-21 15:00:53+00:00</td>\n",
       "      <td>SuellaBraverman</td>\n",
       "      <td>Cackling from the SNP is easy to deal with. It...</td>\n",
       "    </tr>\n",
       "    <tr>\n",
       "      <th>1</th>\n",
       "      <td>2019-12-20 12:16:32+00:00</td>\n",
       "      <td>SuellaBraverman</td>\n",
       "      <td>Pleased to back in the @HouseofCommons Chamber...</td>\n",
       "    </tr>\n",
       "    <tr>\n",
       "      <th>2</th>\n",
       "      <td>2019-12-16 18:03:06+00:00</td>\n",
       "      <td>SuellaBraverman</td>\n",
       "      <td>Back to @UKParliament today and looking forwar...</td>\n",
       "    </tr>\n",
       "    <tr>\n",
       "      <th>3</th>\n",
       "      <td>2019-12-13 05:41:53+00:00</td>\n",
       "      <td>SuellaBraverman</td>\n",
       "      <td>Thank you @FarehamTories @Conservatives for yo...</td>\n",
       "    </tr>\n",
       "    <tr>\n",
       "      <th>4</th>\n",
       "      <td>2019-12-13 05:02:06+00:00</td>\n",
       "      <td>SuellaBraverman</td>\n",
       "      <td>Thank you Fareham for re-electing me to serve ...</td>\n",
       "    </tr>\n",
       "    <tr>\n",
       "      <th>...</th>\n",
       "      <td>...</td>\n",
       "      <td>...</td>\n",
       "      <td>...</td>\n",
       "    </tr>\n",
       "    <tr>\n",
       "      <th>3677</th>\n",
       "      <td>2019-01-01 01:27:27+00:00</td>\n",
       "      <td>benshapiro</td>\n",
       "      <td>Wait until he gets going about the invention a...</td>\n",
       "    </tr>\n",
       "    <tr>\n",
       "      <th>3678</th>\n",
       "      <td>2019-01-01 00:43:34+00:00</td>\n",
       "      <td>benshapiro</td>\n",
       "      <td>Actually, do a recipe from Pow Wow Chow!</td>\n",
       "    </tr>\n",
       "    <tr>\n",
       "      <th>3679</th>\n",
       "      <td>2019-01-01 00:42:26+00:00</td>\n",
       "      <td>benshapiro</td>\n",
       "      <td>Now do AOC’s instant pot recipes!</td>\n",
       "    </tr>\n",
       "    <tr>\n",
       "      <th>3680</th>\n",
       "      <td>2019-01-01 00:41:53+00:00</td>\n",
       "      <td>benshapiro</td>\n",
       "      <td>She’s chilling in Cedar Rapids! https://t.co/M...</td>\n",
       "    </tr>\n",
       "    <tr>\n",
       "      <th>3681</th>\n",
       "      <td>2019-01-01 00:28:53+00:00</td>\n",
       "      <td>benshapiro</td>\n",
       "      <td>@realDailyWire https://t.co/6xdNU1PX2B</td>\n",
       "    </tr>\n",
       "  </tbody>\n",
       "</table>\n",
       "<p>8255 rows × 3 columns</p>\n",
       "</div>"
      ],
      "text/plain": [
       "                          Date             User  \\\n",
       "0    2019-12-21 15:00:53+00:00  SuellaBraverman   \n",
       "1    2019-12-20 12:16:32+00:00  SuellaBraverman   \n",
       "2    2019-12-16 18:03:06+00:00  SuellaBraverman   \n",
       "3    2019-12-13 05:41:53+00:00  SuellaBraverman   \n",
       "4    2019-12-13 05:02:06+00:00  SuellaBraverman   \n",
       "...                        ...              ...   \n",
       "3677 2019-01-01 01:27:27+00:00       benshapiro   \n",
       "3678 2019-01-01 00:43:34+00:00       benshapiro   \n",
       "3679 2019-01-01 00:42:26+00:00       benshapiro   \n",
       "3680 2019-01-01 00:41:53+00:00       benshapiro   \n",
       "3681 2019-01-01 00:28:53+00:00       benshapiro   \n",
       "\n",
       "                                                  Tweet  \n",
       "0     Cackling from the SNP is easy to deal with. It...  \n",
       "1     Pleased to back in the @HouseofCommons Chamber...  \n",
       "2     Back to @UKParliament today and looking forwar...  \n",
       "3     Thank you @FarehamTories @Conservatives for yo...  \n",
       "4     Thank you Fareham for re-electing me to serve ...  \n",
       "...                                                 ...  \n",
       "3677  Wait until he gets going about the invention a...  \n",
       "3678           Actually, do a recipe from Pow Wow Chow!  \n",
       "3679                  Now do AOC’s instant pot recipes!  \n",
       "3680  She’s chilling in Cedar Rapids! https://t.co/M...  \n",
       "3681             @realDailyWire https://t.co/6xdNU1PX2B  \n",
       "\n",
       "[8255 rows x 3 columns]"
      ]
     },
     "execution_count": 30,
     "metadata": {},
     "output_type": "execute_result"
    }
   ],
   "source": [
    "righttweets = (CrowderTweets, BravermanTweets, CoulterTweets, BadenochTweets, conservative_tweets_df)\n",
    "conservative_tweets = pd.concat(righttweets)\n",
    "conservative_tweets"
   ]
  },
  {
   "cell_type": "code",
   "execution_count": 31,
   "id": "d1858daf",
   "metadata": {},
   "outputs": [
    {
     "data": {
      "text/html": [
       "<div>\n",
       "<style scoped>\n",
       "    .dataframe tbody tr th:only-of-type {\n",
       "        vertical-align: middle;\n",
       "    }\n",
       "\n",
       "    .dataframe tbody tr th {\n",
       "        vertical-align: top;\n",
       "    }\n",
       "\n",
       "    .dataframe thead th {\n",
       "        text-align: right;\n",
       "    }\n",
       "</style>\n",
       "<table border=\"1\" class=\"dataframe\">\n",
       "  <thead>\n",
       "    <tr style=\"text-align: right;\">\n",
       "      <th></th>\n",
       "      <th>Date</th>\n",
       "      <th>User</th>\n",
       "      <th>Tweet</th>\n",
       "    </tr>\n",
       "  </thead>\n",
       "  <tbody>\n",
       "    <tr>\n",
       "      <th>0</th>\n",
       "      <td>2019-12-31 18:10:55+00:00</td>\n",
       "      <td>OwenJones84</td>\n",
       "      <td>@TahaMArvas yes yes it is</td>\n",
       "    </tr>\n",
       "    <tr>\n",
       "      <th>1</th>\n",
       "      <td>2019-12-31 18:05:32+00:00</td>\n",
       "      <td>OwenJones84</td>\n",
       "      <td>It has been an absolute shitter of a year, in ...</td>\n",
       "    </tr>\n",
       "    <tr>\n",
       "      <th>2</th>\n",
       "      <td>2019-12-31 17:54:53+00:00</td>\n",
       "      <td>OwenJones84</td>\n",
       "      <td>@Dryad90 hairdresser's away until 6th January,...</td>\n",
       "    </tr>\n",
       "    <tr>\n",
       "      <th>3</th>\n",
       "      <td>2019-12-31 17:51:20+00:00</td>\n",
       "      <td>OwenJones84</td>\n",
       "      <td>#2009vs2019 \\n\\nTen years on and here I am, st...</td>\n",
       "    </tr>\n",
       "    <tr>\n",
       "      <th>4</th>\n",
       "      <td>2019-12-31 16:41:34+00:00</td>\n",
       "      <td>OwenJones84</td>\n",
       "      <td>The most predictable thing in the world is ant...</td>\n",
       "    </tr>\n",
       "    <tr>\n",
       "      <th>...</th>\n",
       "      <td>...</td>\n",
       "      <td>...</td>\n",
       "      <td>...</td>\n",
       "    </tr>\n",
       "    <tr>\n",
       "      <th>1675</th>\n",
       "      <td>2019-01-02 21:53:17+00:00</td>\n",
       "      <td>cenkuygur</td>\n",
       "      <td>This is no-brainer. All progressives should vo...</td>\n",
       "    </tr>\n",
       "    <tr>\n",
       "      <th>1676</th>\n",
       "      <td>2019-01-02 04:53:07+00:00</td>\n",
       "      <td>cenkuygur</td>\n",
       "      <td>I can't tell if a wrestler or gangsta rapper w...</td>\n",
       "    </tr>\n",
       "    <tr>\n",
       "      <th>1677</th>\n",
       "      <td>2019-01-01 20:38:41+00:00</td>\n",
       "      <td>cenkuygur</td>\n",
       "      <td>This is how you can contribute after you hear ...</td>\n",
       "    </tr>\n",
       "    <tr>\n",
       "      <th>1678</th>\n",
       "      <td>2019-01-01 20:34:43+00:00</td>\n",
       "      <td>cenkuygur</td>\n",
       "      <td>If you want to do something amazing with your ...</td>\n",
       "    </tr>\n",
       "    <tr>\n",
       "      <th>1679</th>\n",
       "      <td>2019-01-01 17:49:43+00:00</td>\n",
       "      <td>cenkuygur</td>\n",
       "      <td>Socialist Nomiki Konst Running for NYC Public ...</td>\n",
       "    </tr>\n",
       "  </tbody>\n",
       "</table>\n",
       "<p>16074 rows × 3 columns</p>\n",
       "</div>"
      ],
      "text/plain": [
       "                          Date         User  \\\n",
       "0    2019-12-31 18:10:55+00:00  OwenJones84   \n",
       "1    2019-12-31 18:05:32+00:00  OwenJones84   \n",
       "2    2019-12-31 17:54:53+00:00  OwenJones84   \n",
       "3    2019-12-31 17:51:20+00:00  OwenJones84   \n",
       "4    2019-12-31 16:41:34+00:00  OwenJones84   \n",
       "...                        ...          ...   \n",
       "1675 2019-01-02 21:53:17+00:00    cenkuygur   \n",
       "1676 2019-01-02 04:53:07+00:00    cenkuygur   \n",
       "1677 2019-01-01 20:38:41+00:00    cenkuygur   \n",
       "1678 2019-01-01 20:34:43+00:00    cenkuygur   \n",
       "1679 2019-01-01 17:49:43+00:00    cenkuygur   \n",
       "\n",
       "                                                  Tweet  \n",
       "0                             @TahaMArvas yes yes it is  \n",
       "1     It has been an absolute shitter of a year, in ...  \n",
       "2     @Dryad90 hairdresser's away until 6th January,...  \n",
       "3     #2009vs2019 \\n\\nTen years on and here I am, st...  \n",
       "4     The most predictable thing in the world is ant...  \n",
       "...                                                 ...  \n",
       "1675  This is no-brainer. All progressives should vo...  \n",
       "1676  I can't tell if a wrestler or gangsta rapper w...  \n",
       "1677  This is how you can contribute after you hear ...  \n",
       "1678  If you want to do something amazing with your ...  \n",
       "1679  Socialist Nomiki Konst Running for NYC Public ...  \n",
       "\n",
       "[16074 rows x 3 columns]"
      ]
     },
     "execution_count": 31,
     "metadata": {},
     "output_type": "execute_result"
    }
   ],
   "source": [
    "liberal_tweets2 = (liberal_tweets, DoreTweets, UygurTweets)\n",
    "progressive_tweets = pd.concat(liberal_tweets2)\n",
    "progressive_tweets"
   ]
  },
  {
   "cell_type": "code",
   "execution_count": 32,
   "id": "9f2101c6",
   "metadata": {},
   "outputs": [
    {
     "name": "stderr",
     "output_type": "stream",
     "text": [
      "/var/folders/j1/xwlyd2kd5hb4q6nbz5k6s9v80000gn/T/ipykernel_1422/1406986901.py:5: FutureWarning: username is deprecated, use user.username instead\n",
      "  tweets.append([tweet.date, tweet.username, tweet.content])\n"
     ]
    }
   ],
   "source": [
    "query = \"(from:PrisonPlanet) until:2020-01-01 since:2019-01-01\"\n",
    "tweets = []\n",
    "\n",
    "for tweet in sntwitter.TwitterSearchScraper(query).get_items():\n",
    "        tweets.append([tweet.date, tweet.username, tweet.content])"
   ]
  },
  {
   "cell_type": "code",
   "execution_count": 33,
   "id": "dba62677",
   "metadata": {},
   "outputs": [
    {
     "name": "stdout",
     "output_type": "stream",
     "text": [
      "                          Date          User  \\\n",
      "0    2019-12-31 23:57:42+00:00  PrisonPlanet   \n",
      "1    2019-12-31 21:50:24+00:00  PrisonPlanet   \n",
      "2    2019-12-31 21:25:48+00:00  PrisonPlanet   \n",
      "3    2019-12-31 21:18:51+00:00  PrisonPlanet   \n",
      "4    2019-12-31 18:56:37+00:00  PrisonPlanet   \n",
      "...                        ...           ...   \n",
      "4392 2019-01-01 12:25:40+00:00  PrisonPlanet   \n",
      "4393 2019-01-01 10:46:12+00:00  PrisonPlanet   \n",
      "4394 2019-01-01 09:47:42+00:00  PrisonPlanet   \n",
      "4395 2019-01-01 09:46:38+00:00  PrisonPlanet   \n",
      "4396 2019-01-01 00:14:12+00:00  PrisonPlanet   \n",
      "\n",
      "                                                  Tweet  \n",
      "0                                               At pub.  \n",
      "1     If you spent New Year's Eve hoping for another...  \n",
      "2     \"In former times, a confrontation or shooting ...  \n",
      "3              This aged badly. https://t.co/Abyd5g5xh7  \n",
      "4     Only 5 hours until the UK is \"plunged into a S...  \n",
      "...                                                 ...  \n",
      "4392  An Islamic terrorist stabbed three people in M...  \n",
      "4393  Manchester terrorist who stabbed 3 people was ...  \n",
      "4394  Hi @SkyNews - why are you not reporting that e...  \n",
      "4395  Sadiq Khan politicised a fireworks display. Ma...  \n",
      "4396  Looks like terror in Manchester; Man stabs 3 p...  \n",
      "\n",
      "[4397 rows x 3 columns]\n"
     ]
    }
   ],
   "source": [
    "WatsonTweets = pd.DataFrame(tweets, columns=['Date', 'User', 'Tweet'])\n",
    "print(WatsonTweets)"
   ]
  },
  {
   "cell_type": "code",
   "execution_count": 34,
   "id": "e09bd41a",
   "metadata": {},
   "outputs": [
    {
     "name": "stderr",
     "output_type": "stream",
     "text": [
      "/var/folders/j1/xwlyd2kd5hb4q6nbz5k6s9v80000gn/T/ipykernel_1422/1491156554.py:5: FutureWarning: username is deprecated, use user.username instead\n",
      "  tweets.append([tweet.date, tweet.username, tweet.content])\n"
     ]
    }
   ],
   "source": [
    "query = \"(from:paulmasonnews) until:2020-01-01 since:2019-01-01\"\n",
    "tweets = []\n",
    "\n",
    "for tweet in sntwitter.TwitterSearchScraper(query).get_items():\n",
    "        tweets.append([tweet.date, tweet.username, tweet.content])"
   ]
  },
  {
   "cell_type": "code",
   "execution_count": 35,
   "id": "b9040fd8",
   "metadata": {},
   "outputs": [
    {
     "name": "stdout",
     "output_type": "stream",
     "text": [
      "                          Date           User  \\\n",
      "0    2019-12-30 18:38:26+00:00  paulmasonnews   \n",
      "1    2019-12-30 18:31:45+00:00  paulmasonnews   \n",
      "2    2019-12-30 17:48:00+00:00  paulmasonnews   \n",
      "3    2019-12-30 17:44:09+00:00  paulmasonnews   \n",
      "4    2019-12-30 17:40:33+00:00  paulmasonnews   \n",
      "...                        ...            ...   \n",
      "2971 2019-01-02 22:15:09+00:00  paulmasonnews   \n",
      "2972 2019-01-02 22:14:07+00:00  paulmasonnews   \n",
      "2973 2019-01-02 22:12:31+00:00  paulmasonnews   \n",
      "2974 2019-01-02 12:46:09+00:00  paulmasonnews   \n",
      "2975 2019-01-01 19:05:34+00:00  paulmasonnews   \n",
      "\n",
      "                                                  Tweet  \n",
      "0     @Harryb22 I was witch-hunted by the Mail for l...  \n",
      "1     @rob__fraser Hold on, she's standing for leade...  \n",
      "2     @YiannisBab 80s yes, 90s no. Actually even now...  \n",
      "3     @RLong_Bailey At the same time I've been attac...  \n",
      "4     @RLong_Bailey I fought against the Falklands W...  \n",
      "...                                                 ...  \n",
      "2971  ... and if that thought occured to me, maybe i...  \n",
      "2972  ... I've been thinking for months that my iPho...  \n",
      "2973  Apple's sales wobble and Facebook's year of he...  \n",
      "2974  Where post-imperial fantasy meets the hard rea...  \n",
      "2975  In 2019 Corbyn is 4/1 to become next PM. That'...  \n",
      "\n",
      "[2976 rows x 3 columns]\n"
     ]
    }
   ],
   "source": [
    "MasonTweets = pd.DataFrame(tweets, columns=['Date', 'User', 'Tweet'])\n",
    "print(MasonTweets)"
   ]
  },
  {
   "cell_type": "code",
   "execution_count": 36,
   "id": "cbab92ff",
   "metadata": {},
   "outputs": [
    {
     "name": "stderr",
     "output_type": "stream",
     "text": [
      "/var/folders/j1/xwlyd2kd5hb4q6nbz5k6s9v80000gn/T/ipykernel_1422/2172416629.py:5: FutureWarning: username is deprecated, use user.username instead\n",
      "  tweets.append([tweet.date, tweet.username, tweet.content])\n"
     ]
    }
   ],
   "source": [
    "query = \"(from:graceblakeley) until:2020-01-01 since:2019-01-01\"\n",
    "tweets = []\n",
    "\n",
    "for tweet in sntwitter.TwitterSearchScraper(query).get_items():\n",
    "        tweets.append([tweet.date, tweet.username, tweet.content])"
   ]
  },
  {
   "cell_type": "code",
   "execution_count": 37,
   "id": "f06e6913",
   "metadata": {},
   "outputs": [
    {
     "name": "stdout",
     "output_type": "stream",
     "text": [
      "                         Date           User  \\\n",
      "0   2019-10-08 13:51:13+00:00  graceblakeley   \n",
      "1   2019-10-08 13:42:50+00:00  graceblakeley   \n",
      "2   2019-10-08 13:12:08+00:00  graceblakeley   \n",
      "3   2019-10-07 23:40:33+00:00  graceblakeley   \n",
      "4   2019-10-07 20:49:07+00:00  graceblakeley   \n",
      "..                        ...            ...   \n",
      "740 2019-02-12 09:16:43+00:00  graceblakeley   \n",
      "741 2019-02-12 03:56:10+00:00  graceblakeley   \n",
      "742 2019-02-12 03:54:37+00:00  graceblakeley   \n",
      "743 2019-02-11 22:58:50+00:00  graceblakeley   \n",
      "744 2019-02-11 22:13:11+00:00  graceblakeley   \n",
      "\n",
      "                                                 Tweet  \n",
      "0    This extract from @nrolah’s new book is so goo...  \n",
      "1                         @theAlexMcBride Thanks Alex!  \n",
      "2    Week four of book tour and it has been amazing...  \n",
      "3    @NiallGlynn @nmcinroy Thanks for hosting Niall...  \n",
      "4                      @zeithistoriker Congrats Quinn!  \n",
      "..                                                 ...  \n",
      "740  Absolutely brilliant report out today from @La...  \n",
      "741                                @michaeljswalker 😂😍  \n",
      "742                                 @BlessingOmakwu 😍😍  \n",
      "743  @AngusMacNeilSNP @BBCNewsnight @NickyMorgan01 ...  \n",
      "744  Catch me on @BBCNewsnight tonight discussing t...  \n",
      "\n",
      "[745 rows x 3 columns]\n"
     ]
    }
   ],
   "source": [
    "BlakeleyTweets = pd.DataFrame(tweets, columns=['Date', 'User', 'Tweet'])\n",
    "print(BlakeleyTweets)"
   ]
  },
  {
   "cell_type": "code",
   "execution_count": 38,
   "id": "c3cab901",
   "metadata": {},
   "outputs": [
    {
     "name": "stderr",
     "output_type": "stream",
     "text": [
      "/var/folders/j1/xwlyd2kd5hb4q6nbz5k6s9v80000gn/T/ipykernel_1422/3540122310.py:5: FutureWarning: username is deprecated, use user.username instead\n",
      "  tweets.append([tweet.date, tweet.username, tweet.content])\n"
     ]
    }
   ],
   "source": [
    "query = \"(from:MattWalshBlog) until:2020-01-01 since:2019-01-01\"\n",
    "tweets = []\n",
    "\n",
    "for tweet in sntwitter.TwitterSearchScraper(query).get_items():\n",
    "        tweets.append([tweet.date, tweet.username, tweet.content])"
   ]
  },
  {
   "cell_type": "code",
   "execution_count": 39,
   "id": "10486ddc",
   "metadata": {},
   "outputs": [
    {
     "name": "stdout",
     "output_type": "stream",
     "text": [
      "                          Date           User  \\\n",
      "0    2019-12-31 13:29:42+00:00  MattWalshBlog   \n",
      "1    2019-12-31 01:10:05+00:00  MattWalshBlog   \n",
      "2    2019-12-30 23:44:53+00:00  MattWalshBlog   \n",
      "3    2019-12-30 23:33:54+00:00  MattWalshBlog   \n",
      "4    2019-12-30 23:27:50+00:00  MattWalshBlog   \n",
      "...                        ...            ...   \n",
      "6492 2019-01-02 16:58:18+00:00  MattWalshBlog   \n",
      "6493 2019-01-02 16:57:24+00:00  MattWalshBlog   \n",
      "6494 2019-01-02 13:44:40+00:00  MattWalshBlog   \n",
      "6495 2019-01-02 13:34:35+00:00  MattWalshBlog   \n",
      "6496 2019-01-02 13:30:58+00:00  MattWalshBlog   \n",
      "\n",
      "                                                  Tweet  \n",
      "0     Why wouldn’t you want to stand in the cold for...  \n",
      "1     I haven’t seen Uncut Gems but I get the sense ...  \n",
      "2     Of course that talking point was always absurd...  \n",
      "3     Every argument against having armed guards in ...  \n",
      "4     Honestly I think my plan to turn it into a wat...  \n",
      "...                                                 ...  \n",
      "6492  Just realize that when a feminist \"shouts her ...  \n",
      "6493  It's really sad -- infuriating and disgusting,...  \n",
      "6494  I wish Trump would respond to every attack exa...  \n",
      "6495  I have no problem with someone criticizing the...  \n",
      "6496  Did you talk to Trump about this when you went...  \n",
      "\n",
      "[6497 rows x 3 columns]\n"
     ]
    }
   ],
   "source": [
    "WalshTweets = pd.DataFrame(tweets, columns=['Date', 'User', 'Tweet'])\n",
    "print(WalshTweets)"
   ]
  },
  {
   "cell_type": "code",
   "execution_count": 40,
   "id": "555ffcaa",
   "metadata": {},
   "outputs": [
    {
     "name": "stderr",
     "output_type": "stream",
     "text": [
      "/var/folders/j1/xwlyd2kd5hb4q6nbz5k6s9v80000gn/T/ipykernel_1422/1609313481.py:5: FutureWarning: username is deprecated, use user.username instead\n",
      "  tweets.append([tweet.date, tweet.username, tweet.content])\n"
     ]
    }
   ],
   "source": [
    "query = \"(from:AyoCaesar) until:2020-01-01 since:2019-01-01\"\n",
    "tweets = []\n",
    "\n",
    "for tweet in sntwitter.TwitterSearchScraper(query).get_items():\n",
    "        tweets.append([tweet.date, tweet.username, tweet.content])"
   ]
  },
  {
   "cell_type": "code",
   "execution_count": 41,
   "id": "9f219a1d",
   "metadata": {},
   "outputs": [
    {
     "name": "stdout",
     "output_type": "stream",
     "text": [
      "                          Date       User  \\\n",
      "0    2019-12-31 17:04:01+00:00  AyoCaesar   \n",
      "1    2019-12-31 17:01:43+00:00  AyoCaesar   \n",
      "2    2019-12-31 16:59:24+00:00  AyoCaesar   \n",
      "3    2019-12-31 16:11:35+00:00  AyoCaesar   \n",
      "4    2019-12-31 14:44:09+00:00  AyoCaesar   \n",
      "...                        ...        ...   \n",
      "5989 2019-01-01 12:05:51+00:00  AyoCaesar   \n",
      "5990 2019-01-01 12:01:59+00:00  AyoCaesar   \n",
      "5991 2019-01-01 12:00:07+00:00  AyoCaesar   \n",
      "5992 2019-01-01 10:33:08+00:00  AyoCaesar   \n",
      "5993 2019-01-01 10:31:17+00:00  AyoCaesar   \n",
      "\n",
      "                                                  Tweet  \n",
      "0     @TKispeter @OwenJones84 Fellas, is it gay to r...  \n",
      "1     “Hell, I don’t care if you’re gay OR straight....  \n",
      "2     “I had no idea @OwenJones84 was even gay!!!!” ...  \n",
      "3     Well that lasted all of 4 minutes (a personal ...  \n",
      "4     @jasebyjason I’ve learned and laughed a lot by...  \n",
      "...                                                 ...  \n",
      "5989  If it wasn't for Odysseus' bright bloody idea ...  \n",
      "5990  Penthesilea was like every bad bitch I know - ...  \n",
      "5991  Hit me with your Trojan War opinions. I'll go ...  \n",
      "5992            The correct answer is “climate change”.  \n",
      "5993                             WHO WE BEEFING IN 2019  \n",
      "\n",
      "[5994 rows x 3 columns]\n"
     ]
    }
   ],
   "source": [
    "SarkarTweets = pd.DataFrame(tweets, columns=['Date', 'User', 'Tweet'])\n",
    "print(SarkarTweets)"
   ]
  },
  {
   "cell_type": "code",
   "execution_count": 42,
   "id": "1bd17772",
   "metadata": {},
   "outputs": [
    {
     "data": {
      "text/html": [
       "<div>\n",
       "<style scoped>\n",
       "    .dataframe tbody tr th:only-of-type {\n",
       "        vertical-align: middle;\n",
       "    }\n",
       "\n",
       "    .dataframe tbody tr th {\n",
       "        vertical-align: top;\n",
       "    }\n",
       "\n",
       "    .dataframe thead th {\n",
       "        text-align: right;\n",
       "    }\n",
       "</style>\n",
       "<table border=\"1\" class=\"dataframe\">\n",
       "  <thead>\n",
       "    <tr style=\"text-align: right;\">\n",
       "      <th></th>\n",
       "      <th>Date</th>\n",
       "      <th>User</th>\n",
       "      <th>Tweet</th>\n",
       "    </tr>\n",
       "  </thead>\n",
       "  <tbody>\n",
       "    <tr>\n",
       "      <th>0</th>\n",
       "      <td>2019-12-21 15:00:53+00:00</td>\n",
       "      <td>SuellaBraverman</td>\n",
       "      <td>Cackling from the SNP is easy to deal with. It...</td>\n",
       "    </tr>\n",
       "    <tr>\n",
       "      <th>1</th>\n",
       "      <td>2019-12-20 12:16:32+00:00</td>\n",
       "      <td>SuellaBraverman</td>\n",
       "      <td>Pleased to back in the @HouseofCommons Chamber...</td>\n",
       "    </tr>\n",
       "    <tr>\n",
       "      <th>2</th>\n",
       "      <td>2019-12-16 18:03:06+00:00</td>\n",
       "      <td>SuellaBraverman</td>\n",
       "      <td>Back to @UKParliament today and looking forwar...</td>\n",
       "    </tr>\n",
       "    <tr>\n",
       "      <th>3</th>\n",
       "      <td>2019-12-13 05:41:53+00:00</td>\n",
       "      <td>SuellaBraverman</td>\n",
       "      <td>Thank you @FarehamTories @Conservatives for yo...</td>\n",
       "    </tr>\n",
       "    <tr>\n",
       "      <th>4</th>\n",
       "      <td>2019-12-13 05:02:06+00:00</td>\n",
       "      <td>SuellaBraverman</td>\n",
       "      <td>Thank you Fareham for re-electing me to serve ...</td>\n",
       "    </tr>\n",
       "    <tr>\n",
       "      <th>...</th>\n",
       "      <td>...</td>\n",
       "      <td>...</td>\n",
       "      <td>...</td>\n",
       "    </tr>\n",
       "    <tr>\n",
       "      <th>6492</th>\n",
       "      <td>2019-01-02 16:58:18+00:00</td>\n",
       "      <td>MattWalshBlog</td>\n",
       "      <td>Just realize that when a feminist \"shouts her ...</td>\n",
       "    </tr>\n",
       "    <tr>\n",
       "      <th>6493</th>\n",
       "      <td>2019-01-02 16:57:24+00:00</td>\n",
       "      <td>MattWalshBlog</td>\n",
       "      <td>It's really sad -- infuriating and disgusting,...</td>\n",
       "    </tr>\n",
       "    <tr>\n",
       "      <th>6494</th>\n",
       "      <td>2019-01-02 13:44:40+00:00</td>\n",
       "      <td>MattWalshBlog</td>\n",
       "      <td>I wish Trump would respond to every attack exa...</td>\n",
       "    </tr>\n",
       "    <tr>\n",
       "      <th>6495</th>\n",
       "      <td>2019-01-02 13:34:35+00:00</td>\n",
       "      <td>MattWalshBlog</td>\n",
       "      <td>I have no problem with someone criticizing the...</td>\n",
       "    </tr>\n",
       "    <tr>\n",
       "      <th>6496</th>\n",
       "      <td>2019-01-02 13:30:58+00:00</td>\n",
       "      <td>MattWalshBlog</td>\n",
       "      <td>Did you talk to Trump about this when you went...</td>\n",
       "    </tr>\n",
       "  </tbody>\n",
       "</table>\n",
       "<p>19149 rows × 3 columns</p>\n",
       "</div>"
      ],
      "text/plain": [
       "                          Date             User  \\\n",
       "0    2019-12-21 15:00:53+00:00  SuellaBraverman   \n",
       "1    2019-12-20 12:16:32+00:00  SuellaBraverman   \n",
       "2    2019-12-16 18:03:06+00:00  SuellaBraverman   \n",
       "3    2019-12-13 05:41:53+00:00  SuellaBraverman   \n",
       "4    2019-12-13 05:02:06+00:00  SuellaBraverman   \n",
       "...                        ...              ...   \n",
       "6492 2019-01-02 16:58:18+00:00    MattWalshBlog   \n",
       "6493 2019-01-02 16:57:24+00:00    MattWalshBlog   \n",
       "6494 2019-01-02 13:44:40+00:00    MattWalshBlog   \n",
       "6495 2019-01-02 13:34:35+00:00    MattWalshBlog   \n",
       "6496 2019-01-02 13:30:58+00:00    MattWalshBlog   \n",
       "\n",
       "                                                  Tweet  \n",
       "0     Cackling from the SNP is easy to deal with. It...  \n",
       "1     Pleased to back in the @HouseofCommons Chamber...  \n",
       "2     Back to @UKParliament today and looking forwar...  \n",
       "3     Thank you @FarehamTories @Conservatives for yo...  \n",
       "4     Thank you Fareham for re-electing me to serve ...  \n",
       "...                                                 ...  \n",
       "6492  Just realize that when a feminist \"shouts her ...  \n",
       "6493  It's really sad -- infuriating and disgusting,...  \n",
       "6494  I wish Trump would respond to every attack exa...  \n",
       "6495  I have no problem with someone criticizing the...  \n",
       "6496  Did you talk to Trump about this when you went...  \n",
       "\n",
       "[19149 rows x 3 columns]"
      ]
     },
     "execution_count": 42,
     "metadata": {},
     "output_type": "execute_result"
    }
   ],
   "source": [
    "conservativetweets = pd.concat([conservative_tweets,WatsonTweets, WalshTweets])\n",
    "conservativetweets"
   ]
  },
  {
   "cell_type": "code",
   "execution_count": 43,
   "id": "a10e0455",
   "metadata": {},
   "outputs": [
    {
     "data": {
      "text/plain": [
       "array(['SuellaBraverman', 'AnnCoulter', 'KemiBadenoch', 'TiceRichard',\n",
       "       'Nigel_Farage', 'benshapiro', 'PrisonPlanet', 'MattWalshBlog'],\n",
       "      dtype=object)"
      ]
     },
     "execution_count": 43,
     "metadata": {},
     "output_type": "execute_result"
    }
   ],
   "source": [
    "conservativetweets.User.unique()"
   ]
  },
  {
   "cell_type": "code",
   "execution_count": 44,
   "id": "8781410b",
   "metadata": {},
   "outputs": [
    {
     "data": {
      "text/html": [
       "<div>\n",
       "<style scoped>\n",
       "    .dataframe tbody tr th:only-of-type {\n",
       "        vertical-align: middle;\n",
       "    }\n",
       "\n",
       "    .dataframe tbody tr th {\n",
       "        vertical-align: top;\n",
       "    }\n",
       "\n",
       "    .dataframe thead th {\n",
       "        text-align: right;\n",
       "    }\n",
       "</style>\n",
       "<table border=\"1\" class=\"dataframe\">\n",
       "  <thead>\n",
       "    <tr style=\"text-align: right;\">\n",
       "      <th></th>\n",
       "      <th>Date</th>\n",
       "      <th>User</th>\n",
       "      <th>Tweet</th>\n",
       "    </tr>\n",
       "  </thead>\n",
       "  <tbody>\n",
       "    <tr>\n",
       "      <th>0</th>\n",
       "      <td>2019-12-31 18:10:55+00:00</td>\n",
       "      <td>OwenJones84</td>\n",
       "      <td>@TahaMArvas yes yes it is</td>\n",
       "    </tr>\n",
       "    <tr>\n",
       "      <th>1</th>\n",
       "      <td>2019-12-31 18:05:32+00:00</td>\n",
       "      <td>OwenJones84</td>\n",
       "      <td>It has been an absolute shitter of a year, in ...</td>\n",
       "    </tr>\n",
       "    <tr>\n",
       "      <th>2</th>\n",
       "      <td>2019-12-31 17:54:53+00:00</td>\n",
       "      <td>OwenJones84</td>\n",
       "      <td>@Dryad90 hairdresser's away until 6th January,...</td>\n",
       "    </tr>\n",
       "    <tr>\n",
       "      <th>3</th>\n",
       "      <td>2019-12-31 17:51:20+00:00</td>\n",
       "      <td>OwenJones84</td>\n",
       "      <td>#2009vs2019 \\n\\nTen years on and here I am, st...</td>\n",
       "    </tr>\n",
       "    <tr>\n",
       "      <th>4</th>\n",
       "      <td>2019-12-31 16:41:34+00:00</td>\n",
       "      <td>OwenJones84</td>\n",
       "      <td>The most predictable thing in the world is ant...</td>\n",
       "    </tr>\n",
       "    <tr>\n",
       "      <th>...</th>\n",
       "      <td>...</td>\n",
       "      <td>...</td>\n",
       "      <td>...</td>\n",
       "    </tr>\n",
       "    <tr>\n",
       "      <th>5989</th>\n",
       "      <td>2019-01-01 12:05:51+00:00</td>\n",
       "      <td>AyoCaesar</td>\n",
       "      <td>If it wasn't for Odysseus' bright bloody idea ...</td>\n",
       "    </tr>\n",
       "    <tr>\n",
       "      <th>5990</th>\n",
       "      <td>2019-01-01 12:01:59+00:00</td>\n",
       "      <td>AyoCaesar</td>\n",
       "      <td>Penthesilea was like every bad bitch I know - ...</td>\n",
       "    </tr>\n",
       "    <tr>\n",
       "      <th>5991</th>\n",
       "      <td>2019-01-01 12:00:07+00:00</td>\n",
       "      <td>AyoCaesar</td>\n",
       "      <td>Hit me with your Trojan War opinions. I'll go ...</td>\n",
       "    </tr>\n",
       "    <tr>\n",
       "      <th>5992</th>\n",
       "      <td>2019-01-01 10:33:08+00:00</td>\n",
       "      <td>AyoCaesar</td>\n",
       "      <td>The correct answer is “climate change”.</td>\n",
       "    </tr>\n",
       "    <tr>\n",
       "      <th>5993</th>\n",
       "      <td>2019-01-01 10:31:17+00:00</td>\n",
       "      <td>AyoCaesar</td>\n",
       "      <td>WHO WE BEEFING IN 2019</td>\n",
       "    </tr>\n",
       "  </tbody>\n",
       "</table>\n",
       "<p>25789 rows × 3 columns</p>\n",
       "</div>"
      ],
      "text/plain": [
       "                          Date         User  \\\n",
       "0    2019-12-31 18:10:55+00:00  OwenJones84   \n",
       "1    2019-12-31 18:05:32+00:00  OwenJones84   \n",
       "2    2019-12-31 17:54:53+00:00  OwenJones84   \n",
       "3    2019-12-31 17:51:20+00:00  OwenJones84   \n",
       "4    2019-12-31 16:41:34+00:00  OwenJones84   \n",
       "...                        ...          ...   \n",
       "5989 2019-01-01 12:05:51+00:00    AyoCaesar   \n",
       "5990 2019-01-01 12:01:59+00:00    AyoCaesar   \n",
       "5991 2019-01-01 12:00:07+00:00    AyoCaesar   \n",
       "5992 2019-01-01 10:33:08+00:00    AyoCaesar   \n",
       "5993 2019-01-01 10:31:17+00:00    AyoCaesar   \n",
       "\n",
       "                                                  Tweet  \n",
       "0                             @TahaMArvas yes yes it is  \n",
       "1     It has been an absolute shitter of a year, in ...  \n",
       "2     @Dryad90 hairdresser's away until 6th January,...  \n",
       "3     #2009vs2019 \\n\\nTen years on and here I am, st...  \n",
       "4     The most predictable thing in the world is ant...  \n",
       "...                                                 ...  \n",
       "5989  If it wasn't for Odysseus' bright bloody idea ...  \n",
       "5990  Penthesilea was like every bad bitch I know - ...  \n",
       "5991  Hit me with your Trojan War opinions. I'll go ...  \n",
       "5992            The correct answer is “climate change”.  \n",
       "5993                             WHO WE BEEFING IN 2019  \n",
       "\n",
       "[25789 rows x 3 columns]"
      ]
     },
     "execution_count": 44,
     "metadata": {},
     "output_type": "execute_result"
    }
   ],
   "source": [
    "liberal_tweets = pd.concat([progressive_tweets, BlakeleyTweets, MasonTweets, SarkarTweets])\n",
    "liberal_tweets"
   ]
  },
  {
   "cell_type": "code",
   "execution_count": 45,
   "id": "537f5b96",
   "metadata": {},
   "outputs": [
    {
     "name": "stderr",
     "output_type": "stream",
     "text": [
      "/var/folders/j1/xwlyd2kd5hb4q6nbz5k6s9v80000gn/T/ipykernel_1422/1907289307.py:5: FutureWarning: username is deprecated, use user.username instead\n",
      "  tweets.append([tweet.date, tweet.username, tweet.content])\n"
     ]
    }
   ],
   "source": [
    "query = \"(from:KyleKulinski) until:2020-01-01 since:2019-01-01\"\n",
    "tweets = []\n",
    "\n",
    "for tweet in sntwitter.TwitterSearchScraper(query).get_items():\n",
    "        tweets.append([tweet.date, tweet.username, tweet.content])"
   ]
  },
  {
   "cell_type": "code",
   "execution_count": 46,
   "id": "a763ed16",
   "metadata": {},
   "outputs": [
    {
     "name": "stdout",
     "output_type": "stream",
     "text": [
      "                          Date          User  \\\n",
      "0    2019-12-31 18:29:11+00:00  KyleKulinski   \n",
      "1    2019-12-31 18:27:20+00:00  KyleKulinski   \n",
      "2    2019-12-31 18:19:49+00:00  KyleKulinski   \n",
      "3    2019-12-31 18:17:33+00:00  KyleKulinski   \n",
      "4    2019-12-31 17:55:29+00:00  KyleKulinski   \n",
      "...                        ...           ...   \n",
      "4012 2019-01-02 21:00:43+00:00  KyleKulinski   \n",
      "4013 2019-01-02 20:37:42+00:00  KyleKulinski   \n",
      "4014 2019-01-02 20:33:40+00:00  KyleKulinski   \n",
      "4015 2019-01-02 17:18:14+00:00  KyleKulinski   \n",
      "4016 2019-01-01 05:11:50+00:00  KyleKulinski   \n",
      "\n",
      "                                                  Tweet  \n",
      "0     @krystalball @esaagar @makosloff @CBedfordDC @...  \n",
      "1     @esaagar @makosloff @CBedfordDC @GPIngersoll @...  \n",
      "2     @esaagar @makosloff @CBedfordDC @GPIngersoll @...  \n",
      "3     @esaagar @makosloff @CBedfordDC @GPIngersoll @...  \n",
      "4     It's 78 degrees in Miami right now and frankly...  \n",
      "...                                                 ...  \n",
      "4012  All an elected Republican has to say is “I dis...  \n",
      "4013  @whiter069 @FiveThirtyEight Ending drug war, f...  \n",
      "4014  Your definition of populist is \"more governmen...  \n",
      "4015  As far as I can tell only @RoKhanna and @AOC h...  \n",
      "4016                            https://t.co/eV3e5GRnhC  \n",
      "\n",
      "[4017 rows x 3 columns]\n"
     ]
    }
   ],
   "source": [
    "KulinskiTweets = pd.DataFrame(tweets, columns=['Date', 'User', 'Tweet'])\n",
    "print(KulinskiTweets)\n",
    "liberal_tweets = pd.concat([liberal_tweets, KulinskiTweets])"
   ]
  },
  {
   "cell_type": "code",
   "execution_count": 47,
   "id": "013ca04d",
   "metadata": {},
   "outputs": [
    {
     "name": "stderr",
     "output_type": "stream",
     "text": [
      "/var/folders/j1/xwlyd2kd5hb4q6nbz5k6s9v80000gn/T/ipykernel_1422/442268405.py:5: FutureWarning: username is deprecated, use user.username instead\n",
      "  murraytweets.append([tweet.date, tweet.username, tweet.content])\n"
     ]
    }
   ],
   "source": [
    "query = \"(from:DouglasKMurray) until:2020-01-01 since:2019-01-01\"\n",
    "murraytweets = []\n",
    "\n",
    "for tweet in sntwitter.TwitterSearchScraper(query).get_items():\n",
    "        murraytweets.append([tweet.date, tweet.username, tweet.content])"
   ]
  },
  {
   "cell_type": "code",
   "execution_count": 48,
   "id": "f7328c8d",
   "metadata": {},
   "outputs": [
    {
     "name": "stdout",
     "output_type": "stream",
     "text": [
      "                         Date            User  \\\n",
      "0   2019-12-31 16:28:18+00:00  DouglasKMurray   \n",
      "1   2019-12-29 02:23:22+00:00  DouglasKMurray   \n",
      "2   2019-12-28 10:39:30+00:00  DouglasKMurray   \n",
      "3   2019-12-24 09:36:51+00:00  DouglasKMurray   \n",
      "4   2019-12-23 19:43:30+00:00  DouglasKMurray   \n",
      "..                        ...             ...   \n",
      "425 2019-01-17 13:23:23+00:00  DouglasKMurray   \n",
      "426 2019-01-11 01:40:52+00:00  DouglasKMurray   \n",
      "427 2019-01-08 23:10:02+00:00  DouglasKMurray   \n",
      "428 2019-01-08 21:26:19+00:00  DouglasKMurray   \n",
      "429 2019-01-03 09:57:20+00:00  DouglasKMurray   \n",
      "\n",
      "                                                 Tweet  \n",
      "0    A very moving diary of 2019 from Roger Scruton...  \n",
      "1                              https://t.co/osffQn2QAy  \n",
      "2    My column in today’s Telegraph: https://t.co/r...  \n",
      "3    ‘Brexit, for real this time’. The latest issue...  \n",
      "4    New for UnHerd. 'How does Labour get out of th...  \n",
      "..                                                 ...  \n",
      "425  'After Brexit and Trump: an interview with Dou...  \n",
      "426  The latest issue of @NRO is out now. The cover...  \n",
      "427  For Italian readers, here is a new interview w...  \n",
      "428                            https://t.co/eGpuIcXvaX  \n",
      "429  This week’s Spectator (out today) includes thi...  \n",
      "\n",
      "[430 rows x 3 columns]\n"
     ]
    }
   ],
   "source": [
    "MurrayTweets = pd.DataFrame(murraytweets, columns=['Date', 'User', 'Tweet'])\n",
    "print(MurrayTweets)\n",
    "conservativetweets = pd.concat([conservativetweets, MurrayTweets])"
   ]
  },
  {
   "cell_type": "code",
   "execution_count": 49,
   "id": "c4bfa56f",
   "metadata": {},
   "outputs": [
    {
     "name": "stderr",
     "output_type": "stream",
     "text": [
      "/var/folders/j1/xwlyd2kd5hb4q6nbz5k6s9v80000gn/T/ipykernel_1422/1873467654.py:5: FutureWarning: username is deprecated, use user.username instead\n",
      "  youngtweets.append([tweet.date, tweet.username, tweet.content])\n"
     ]
    }
   ],
   "source": [
    "query = \"(from:toadmeister) until:2020-01-01 since:2019-01-01\"\n",
    "youngtweets = []\n",
    "\n",
    "for tweet in sntwitter.TwitterSearchScraper(query).get_items():\n",
    "        youngtweets.append([tweet.date, tweet.username, tweet.content])"
   ]
  },
  {
   "cell_type": "code",
   "execution_count": 50,
   "id": "39d22824",
   "metadata": {},
   "outputs": [
    {
     "name": "stdout",
     "output_type": "stream",
     "text": [
      "                       Date         User  \\\n",
      "0 2019-07-11 19:46:15+00:00  toadmeister   \n",
      "\n",
      "                                               Tweet  \n",
      "0  I love Boris for not firing me when I wrote a ...  \n"
     ]
    }
   ],
   "source": [
    "YoungTweets = pd.DataFrame(youngtweets, columns=['Date', 'User', 'Tweet'])\n",
    "print(YoungTweets)\n",
    "conservativetweets = pd.concat([conservativetweets, YoungTweets])"
   ]
  },
  {
   "cell_type": "code",
   "execution_count": 52,
   "id": "3545e7e6",
   "metadata": {},
   "outputs": [
    {
     "name": "stderr",
     "output_type": "stream",
     "text": [
      "/var/folders/j1/xwlyd2kd5hb4q6nbz5k6s9v80000gn/T/ipykernel_1422/1641172079.py:5: FutureWarning: username is deprecated, use user.username instead\n",
      "  oakeshotttweets.append([tweet.date, tweet.username, tweet.content])\n"
     ]
    }
   ],
   "source": [
    "query = \"(from:IsabelOakeshott) until:2020-01-01 since:2019-01-01\"\n",
    "oakeshotttweets = []\n",
    "\n",
    "for tweet in sntwitter.TwitterSearchScraper(query).get_items():\n",
    "        oakeshotttweets.append([tweet.date, tweet.username, tweet.content])"
   ]
  },
  {
   "cell_type": "code",
   "execution_count": 53,
   "id": "7c41af31",
   "metadata": {},
   "outputs": [
    {
     "name": "stdout",
     "output_type": "stream",
     "text": [
      "                         Date             User  \\\n",
      "0   2019-12-21 19:23:49+00:00  IsabelOakeshott   \n",
      "1   2019-12-13 20:16:50+00:00  IsabelOakeshott   \n",
      "2   2019-12-12 23:52:54+00:00  IsabelOakeshott   \n",
      "3   2019-12-12 23:52:24+00:00  IsabelOakeshott   \n",
      "4   2019-12-12 23:02:45+00:00  IsabelOakeshott   \n",
      "..                        ...              ...   \n",
      "553 2019-01-14 12:07:41+00:00  IsabelOakeshott   \n",
      "554 2019-01-08 16:22:50+00:00  IsabelOakeshott   \n",
      "555 2019-01-08 13:20:36+00:00  IsabelOakeshott   \n",
      "556 2019-01-03 09:16:13+00:00  IsabelOakeshott   \n",
      "557 2019-01-01 11:15:39+00:00  IsabelOakeshott   \n",
      "\n",
      "                                                 Tweet  \n",
      "0                  @jrowland58 https://t.co/yeAizRZgF8  \n",
      "1                      @familytreeman8 @LordAshcroft 🙄  \n",
      "2            @guyadams Something about saving the NHS?  \n",
      "3                                 @guyadams Me neither  \n",
      "4    @MartinStewITV @itvtynetees A sign we want a d...  \n",
      "..                                                 ...  \n",
      "553  @DphSecret Hi, please could you follow me so I...  \n",
      "554                             @superted444 Thank you  \n",
      "555  We covered this at length and in a balanced wa...  \n",
      "556                   Exactly. https://t.co/YbYK4Pr2OZ  \n",
      "557                              @666DAZZLE Belatedly!  \n",
      "\n",
      "[558 rows x 3 columns]\n"
     ]
    }
   ],
   "source": [
    "OakeshottTweets = pd.DataFrame(oakeshotttweets, columns=['Date', 'User', 'Tweet'])\n",
    "print(OakeshottTweets)\n",
    "conservativetweets = pd.concat([conservativetweets, OakeshottTweets])"
   ]
  },
  {
   "cell_type": "code",
   "execution_count": null,
   "id": "851b61b2",
   "metadata": {},
   "outputs": [],
   "source": []
  },
  {
   "cell_type": "code",
   "execution_count": null,
   "id": "ca8f5830",
   "metadata": {},
   "outputs": [],
   "source": []
  },
  {
   "cell_type": "code",
   "execution_count": 54,
   "id": "3779a614",
   "metadata": {},
   "outputs": [
    {
     "name": "stderr",
     "output_type": "stream",
     "text": [
      "/var/folders/j1/xwlyd2kd5hb4q6nbz5k6s9v80000gn/T/ipykernel_1422/2278003760.py:5: FutureWarning: username is deprecated, use user.username instead\n",
      "  tomlinsontweets.append([tweet.date, tweet.username, tweet.content])\n"
     ]
    }
   ],
   "source": [
    "query = \"(from:Con_Tomlinson) until:2020-01-01 since:2019-01-01\"\n",
    "tomlinsontweets = []\n",
    "\n",
    "for tweet in sntwitter.TwitterSearchScraper(query).get_items():\n",
    "        tomlinsontweets.append([tweet.date, tweet.username, tweet.content])"
   ]
  },
  {
   "cell_type": "code",
   "execution_count": 55,
   "id": "d6ea32df",
   "metadata": {},
   "outputs": [
    {
     "name": "stdout",
     "output_type": "stream",
     "text": [
      "                         Date           User  \\\n",
      "0   2019-12-31 23:56:41+00:00  Con_Tomlinson   \n",
      "1   2019-12-26 00:36:49+00:00  Con_Tomlinson   \n",
      "2   2019-12-26 00:34:02+00:00  Con_Tomlinson   \n",
      "3   2019-12-24 21:33:05+00:00  Con_Tomlinson   \n",
      "4   2019-12-24 10:34:47+00:00  Con_Tomlinson   \n",
      "..                        ...            ...   \n",
      "626 2019-01-04 01:26:21+00:00  Con_Tomlinson   \n",
      "627 2019-01-04 00:27:41+00:00  Con_Tomlinson   \n",
      "628 2019-01-03 18:46:33+00:00  Con_Tomlinson   \n",
      "629 2019-01-01 12:12:32+00:00  Con_Tomlinson   \n",
      "630 2019-01-01 12:11:00+00:00  Con_Tomlinson   \n",
      "\n",
      "                                                 Tweet  \n",
      "0    John Boyega no longer bows to the House of Mou...  \n",
      "1    Batman Returns and Gremlins are the best Chris...  \n",
      "2     @macawcaw123 I am incapable of being victorious.  \n",
      "3    Spoilers for Rise of Skywalker https://t.co/wN...  \n",
      "4    Did he really need to act like the Joker in '8...  \n",
      "..                                                 ...  \n",
      "626  Storm holding an umbrella. It’s like you’re no...  \n",
      "627  Black Mirror: Bandersnatch\\n\\n• Complex and in...  \n",
      "628  This truly is the most interesting timeline ht...  \n",
      "629  @CJBlkcz @stillgray Just Toyota Prius’ driven ...  \n",
      "630  @stillgray They were right about fascinations ...  \n",
      "\n",
      "[631 rows x 3 columns]\n"
     ]
    }
   ],
   "source": [
    "TomlinsonTweets = pd.DataFrame(tomlinsontweets, columns=['Date', 'User', 'Tweet'])\n",
    "print(TomlinsonTweets)\n",
    "conservativetweets = pd.concat([conservativetweets, TomlinsonTweets])"
   ]
  },
  {
   "cell_type": "code",
   "execution_count": 56,
   "id": "9ad6a31b",
   "metadata": {},
   "outputs": [
    {
     "name": "stderr",
     "output_type": "stream",
     "text": [
      "/var/folders/j1/xwlyd2kd5hb4q6nbz5k6s9v80000gn/T/ipykernel_1422/3508389500.py:5: FutureWarning: username is deprecated, use user.username instead\n",
      "  philipstweets.append([tweet.date, tweet.username, tweet.content])\n"
     ]
    }
   ],
   "source": [
    "query = \"(from:MelanieLatest) until:2020-01-01 since:2019-01-01\"\n",
    "philipstweets = []\n",
    "\n",
    "for tweet in sntwitter.TwitterSearchScraper(query).get_items():\n",
    "        philipstweets.append([tweet.date, tweet.username, tweet.content])"
   ]
  },
  {
   "cell_type": "code",
   "execution_count": 57,
   "id": "a4635987",
   "metadata": {},
   "outputs": [
    {
     "name": "stdout",
     "output_type": "stream",
     "text": [
      "                         Date           User  \\\n",
      "0   2019-12-31 11:50:11+00:00  MelanieLatest   \n",
      "1   2019-12-31 11:49:16+00:00  MelanieLatest   \n",
      "2   2019-12-27 10:41:11+00:00  MelanieLatest   \n",
      "3   2019-12-25 17:14:36+00:00  MelanieLatest   \n",
      "4   2019-12-23 09:19:15+00:00  MelanieLatest   \n",
      "..                        ...            ...   \n",
      "274 2019-01-04 09:55:03+00:00  MelanieLatest   \n",
      "275 2019-01-02 09:49:31+00:00  MelanieLatest   \n",
      "276 2019-01-01 21:15:24+00:00  MelanieLatest   \n",
      "277 2019-01-01 21:13:59+00:00  MelanieLatest   \n",
      "278 2019-01-01 21:13:36+00:00  MelanieLatest   \n",
      "\n",
      "                                                 Tweet  \n",
      "0    @James1940 @BBCiPlayer Thank you. And yes inde...  \n",
      "1       @GrayConnolly Thanks! And best wishes for 2020  \n",
      "2    Against the odds, heroic Iranians continue the...  \n",
      "3              @caradoc72 Thanks, and the same to you.  \n",
      "4    Amnesty International- from bias to obsession ...  \n",
      "..                                                 ...  \n",
      "274  The pathological animus of the New York Times ...  \n",
      "275  @Oooh_Matron Eh? Have never even written about...  \n",
      "276    https://t.co/8YG0BHe0J6 https://t.co/aZS1GsICmq  \n",
      "277                       @ShireCleeve Thanks so much!  \n",
      "278                               @wpaddock Thank you!  \n",
      "\n",
      "[279 rows x 3 columns]\n"
     ]
    }
   ],
   "source": [
    "PhilipsTweets = pd.DataFrame(philipstweets, columns=['Date', 'User', 'Tweet'])\n",
    "print(PhilipsTweets)\n",
    "conservativetweets = pd.concat([conservativetweets, PhilipsTweets])"
   ]
  },
  {
   "cell_type": "code",
   "execution_count": 58,
   "id": "3df300a2",
   "metadata": {},
   "outputs": [],
   "source": [
    "conservativetweets['View'] = 'Conservative'"
   ]
  },
  {
   "cell_type": "code",
   "execution_count": 59,
   "id": "eeaa8479",
   "metadata": {},
   "outputs": [
    {
     "data": {
      "text/html": [
       "<div>\n",
       "<style scoped>\n",
       "    .dataframe tbody tr th:only-of-type {\n",
       "        vertical-align: middle;\n",
       "    }\n",
       "\n",
       "    .dataframe tbody tr th {\n",
       "        vertical-align: top;\n",
       "    }\n",
       "\n",
       "    .dataframe thead th {\n",
       "        text-align: right;\n",
       "    }\n",
       "</style>\n",
       "<table border=\"1\" class=\"dataframe\">\n",
       "  <thead>\n",
       "    <tr style=\"text-align: right;\">\n",
       "      <th></th>\n",
       "      <th>Date</th>\n",
       "      <th>User</th>\n",
       "      <th>Tweet</th>\n",
       "      <th>View</th>\n",
       "    </tr>\n",
       "  </thead>\n",
       "  <tbody>\n",
       "    <tr>\n",
       "      <th>0</th>\n",
       "      <td>2019-12-31 18:10:55+00:00</td>\n",
       "      <td>OwenJones84</td>\n",
       "      <td>@TahaMArvas yes yes it is</td>\n",
       "      <td>Liberal</td>\n",
       "    </tr>\n",
       "    <tr>\n",
       "      <th>1</th>\n",
       "      <td>2019-12-31 18:05:32+00:00</td>\n",
       "      <td>OwenJones84</td>\n",
       "      <td>It has been an absolute shitter of a year, in ...</td>\n",
       "      <td>Liberal</td>\n",
       "    </tr>\n",
       "    <tr>\n",
       "      <th>2</th>\n",
       "      <td>2019-12-31 17:54:53+00:00</td>\n",
       "      <td>OwenJones84</td>\n",
       "      <td>@Dryad90 hairdresser's away until 6th January,...</td>\n",
       "      <td>Liberal</td>\n",
       "    </tr>\n",
       "    <tr>\n",
       "      <th>3</th>\n",
       "      <td>2019-12-31 17:51:20+00:00</td>\n",
       "      <td>OwenJones84</td>\n",
       "      <td>#2009vs2019 \\n\\nTen years on and here I am, st...</td>\n",
       "      <td>Liberal</td>\n",
       "    </tr>\n",
       "    <tr>\n",
       "      <th>4</th>\n",
       "      <td>2019-12-31 16:41:34+00:00</td>\n",
       "      <td>OwenJones84</td>\n",
       "      <td>The most predictable thing in the world is ant...</td>\n",
       "      <td>Liberal</td>\n",
       "    </tr>\n",
       "    <tr>\n",
       "      <th>...</th>\n",
       "      <td>...</td>\n",
       "      <td>...</td>\n",
       "      <td>...</td>\n",
       "      <td>...</td>\n",
       "    </tr>\n",
       "    <tr>\n",
       "      <th>4012</th>\n",
       "      <td>2019-01-02 21:00:43+00:00</td>\n",
       "      <td>KyleKulinski</td>\n",
       "      <td>All an elected Republican has to say is “I dis...</td>\n",
       "      <td>Liberal</td>\n",
       "    </tr>\n",
       "    <tr>\n",
       "      <th>4013</th>\n",
       "      <td>2019-01-02 20:37:42+00:00</td>\n",
       "      <td>KyleKulinski</td>\n",
       "      <td>@whiter069 @FiveThirtyEight Ending drug war, f...</td>\n",
       "      <td>Liberal</td>\n",
       "    </tr>\n",
       "    <tr>\n",
       "      <th>4014</th>\n",
       "      <td>2019-01-02 20:33:40+00:00</td>\n",
       "      <td>KyleKulinski</td>\n",
       "      <td>Your definition of populist is \"more governmen...</td>\n",
       "      <td>Liberal</td>\n",
       "    </tr>\n",
       "    <tr>\n",
       "      <th>4015</th>\n",
       "      <td>2019-01-02 17:18:14+00:00</td>\n",
       "      <td>KyleKulinski</td>\n",
       "      <td>As far as I can tell only @RoKhanna and @AOC h...</td>\n",
       "      <td>Liberal</td>\n",
       "    </tr>\n",
       "    <tr>\n",
       "      <th>4016</th>\n",
       "      <td>2019-01-01 05:11:50+00:00</td>\n",
       "      <td>KyleKulinski</td>\n",
       "      <td>https://t.co/eV3e5GRnhC</td>\n",
       "      <td>Liberal</td>\n",
       "    </tr>\n",
       "  </tbody>\n",
       "</table>\n",
       "<p>29806 rows × 4 columns</p>\n",
       "</div>"
      ],
      "text/plain": [
       "                          Date          User  \\\n",
       "0    2019-12-31 18:10:55+00:00   OwenJones84   \n",
       "1    2019-12-31 18:05:32+00:00   OwenJones84   \n",
       "2    2019-12-31 17:54:53+00:00   OwenJones84   \n",
       "3    2019-12-31 17:51:20+00:00   OwenJones84   \n",
       "4    2019-12-31 16:41:34+00:00   OwenJones84   \n",
       "...                        ...           ...   \n",
       "4012 2019-01-02 21:00:43+00:00  KyleKulinski   \n",
       "4013 2019-01-02 20:37:42+00:00  KyleKulinski   \n",
       "4014 2019-01-02 20:33:40+00:00  KyleKulinski   \n",
       "4015 2019-01-02 17:18:14+00:00  KyleKulinski   \n",
       "4016 2019-01-01 05:11:50+00:00  KyleKulinski   \n",
       "\n",
       "                                                  Tweet     View  \n",
       "0                             @TahaMArvas yes yes it is  Liberal  \n",
       "1     It has been an absolute shitter of a year, in ...  Liberal  \n",
       "2     @Dryad90 hairdresser's away until 6th January,...  Liberal  \n",
       "3     #2009vs2019 \\n\\nTen years on and here I am, st...  Liberal  \n",
       "4     The most predictable thing in the world is ant...  Liberal  \n",
       "...                                                 ...      ...  \n",
       "4012  All an elected Republican has to say is “I dis...  Liberal  \n",
       "4013  @whiter069 @FiveThirtyEight Ending drug war, f...  Liberal  \n",
       "4014  Your definition of populist is \"more governmen...  Liberal  \n",
       "4015  As far as I can tell only @RoKhanna and @AOC h...  Liberal  \n",
       "4016                            https://t.co/eV3e5GRnhC  Liberal  \n",
       "\n",
       "[29806 rows x 4 columns]"
      ]
     },
     "execution_count": 59,
     "metadata": {},
     "output_type": "execute_result"
    }
   ],
   "source": [
    "liberal_tweets['View'] = 'Liberal'\n",
    "liberal_tweets"
   ]
  },
  {
   "cell_type": "code",
   "execution_count": 60,
   "id": "786c2f69",
   "metadata": {},
   "outputs": [],
   "source": [
    "Tweet_Data = pd.concat([liberal_tweets, conservativetweets])"
   ]
  },
  {
   "cell_type": "code",
   "execution_count": 61,
   "id": "88b7ff69",
   "metadata": {},
   "outputs": [
    {
     "data": {
      "text/html": [
       "<div>\n",
       "<style scoped>\n",
       "    .dataframe tbody tr th:only-of-type {\n",
       "        vertical-align: middle;\n",
       "    }\n",
       "\n",
       "    .dataframe tbody tr th {\n",
       "        vertical-align: top;\n",
       "    }\n",
       "\n",
       "    .dataframe thead th {\n",
       "        text-align: right;\n",
       "    }\n",
       "</style>\n",
       "<table border=\"1\" class=\"dataframe\">\n",
       "  <thead>\n",
       "    <tr style=\"text-align: right;\">\n",
       "      <th></th>\n",
       "      <th>Date</th>\n",
       "      <th>User</th>\n",
       "      <th>Tweet</th>\n",
       "      <th>View</th>\n",
       "    </tr>\n",
       "  </thead>\n",
       "  <tbody>\n",
       "    <tr>\n",
       "      <th>0</th>\n",
       "      <td>2019-12-31 18:10:55+00:00</td>\n",
       "      <td>OwenJones84</td>\n",
       "      <td>@TahaMArvas yes yes it is</td>\n",
       "      <td>Liberal</td>\n",
       "    </tr>\n",
       "    <tr>\n",
       "      <th>1</th>\n",
       "      <td>2019-12-31 18:05:32+00:00</td>\n",
       "      <td>OwenJones84</td>\n",
       "      <td>It has been an absolute shitter of a year, in ...</td>\n",
       "      <td>Liberal</td>\n",
       "    </tr>\n",
       "    <tr>\n",
       "      <th>2</th>\n",
       "      <td>2019-12-31 17:54:53+00:00</td>\n",
       "      <td>OwenJones84</td>\n",
       "      <td>@Dryad90 hairdresser's away until 6th January,...</td>\n",
       "      <td>Liberal</td>\n",
       "    </tr>\n",
       "    <tr>\n",
       "      <th>3</th>\n",
       "      <td>2019-12-31 17:51:20+00:00</td>\n",
       "      <td>OwenJones84</td>\n",
       "      <td>#2009vs2019 \\n\\nTen years on and here I am, st...</td>\n",
       "      <td>Liberal</td>\n",
       "    </tr>\n",
       "    <tr>\n",
       "      <th>4</th>\n",
       "      <td>2019-12-31 16:41:34+00:00</td>\n",
       "      <td>OwenJones84</td>\n",
       "      <td>The most predictable thing in the world is ant...</td>\n",
       "      <td>Liberal</td>\n",
       "    </tr>\n",
       "    <tr>\n",
       "      <th>...</th>\n",
       "      <td>...</td>\n",
       "      <td>...</td>\n",
       "      <td>...</td>\n",
       "      <td>...</td>\n",
       "    </tr>\n",
       "    <tr>\n",
       "      <th>274</th>\n",
       "      <td>2019-01-04 09:55:03+00:00</td>\n",
       "      <td>MelanieLatest</td>\n",
       "      <td>The pathological animus of the New York Times ...</td>\n",
       "      <td>Conservative</td>\n",
       "    </tr>\n",
       "    <tr>\n",
       "      <th>275</th>\n",
       "      <td>2019-01-02 09:49:31+00:00</td>\n",
       "      <td>MelanieLatest</td>\n",
       "      <td>@Oooh_Matron Eh? Have never even written about...</td>\n",
       "      <td>Conservative</td>\n",
       "    </tr>\n",
       "    <tr>\n",
       "      <th>276</th>\n",
       "      <td>2019-01-01 21:15:24+00:00</td>\n",
       "      <td>MelanieLatest</td>\n",
       "      <td>https://t.co/8YG0BHe0J6 https://t.co/aZS1GsICmq</td>\n",
       "      <td>Conservative</td>\n",
       "    </tr>\n",
       "    <tr>\n",
       "      <th>277</th>\n",
       "      <td>2019-01-01 21:13:59+00:00</td>\n",
       "      <td>MelanieLatest</td>\n",
       "      <td>@ShireCleeve Thanks so much!</td>\n",
       "      <td>Conservative</td>\n",
       "    </tr>\n",
       "    <tr>\n",
       "      <th>278</th>\n",
       "      <td>2019-01-01 21:13:36+00:00</td>\n",
       "      <td>MelanieLatest</td>\n",
       "      <td>@wpaddock Thank you!</td>\n",
       "      <td>Conservative</td>\n",
       "    </tr>\n",
       "  </tbody>\n",
       "</table>\n",
       "<p>50854 rows × 4 columns</p>\n",
       "</div>"
      ],
      "text/plain": [
       "                         Date           User  \\\n",
       "0   2019-12-31 18:10:55+00:00    OwenJones84   \n",
       "1   2019-12-31 18:05:32+00:00    OwenJones84   \n",
       "2   2019-12-31 17:54:53+00:00    OwenJones84   \n",
       "3   2019-12-31 17:51:20+00:00    OwenJones84   \n",
       "4   2019-12-31 16:41:34+00:00    OwenJones84   \n",
       "..                        ...            ...   \n",
       "274 2019-01-04 09:55:03+00:00  MelanieLatest   \n",
       "275 2019-01-02 09:49:31+00:00  MelanieLatest   \n",
       "276 2019-01-01 21:15:24+00:00  MelanieLatest   \n",
       "277 2019-01-01 21:13:59+00:00  MelanieLatest   \n",
       "278 2019-01-01 21:13:36+00:00  MelanieLatest   \n",
       "\n",
       "                                                 Tweet          View  \n",
       "0                            @TahaMArvas yes yes it is       Liberal  \n",
       "1    It has been an absolute shitter of a year, in ...       Liberal  \n",
       "2    @Dryad90 hairdresser's away until 6th January,...       Liberal  \n",
       "3    #2009vs2019 \\n\\nTen years on and here I am, st...       Liberal  \n",
       "4    The most predictable thing in the world is ant...       Liberal  \n",
       "..                                                 ...           ...  \n",
       "274  The pathological animus of the New York Times ...  Conservative  \n",
       "275  @Oooh_Matron Eh? Have never even written about...  Conservative  \n",
       "276    https://t.co/8YG0BHe0J6 https://t.co/aZS1GsICmq  Conservative  \n",
       "277                       @ShireCleeve Thanks so much!  Conservative  \n",
       "278                               @wpaddock Thank you!  Conservative  \n",
       "\n",
       "[50854 rows x 4 columns]"
      ]
     },
     "execution_count": 61,
     "metadata": {},
     "output_type": "execute_result"
    }
   ],
   "source": [
    "Tweet_Data"
   ]
  },
  {
   "cell_type": "code",
   "execution_count": 17,
   "id": "864fb3d4",
   "metadata": {},
   "outputs": [
    {
     "ename": "NameError",
     "evalue": "name 'Tweet_Data' is not defined",
     "output_type": "error",
     "traceback": [
      "\u001b[0;31m---------------------------------------------------------------------------\u001b[0m",
      "\u001b[0;31mNameError\u001b[0m                                 Traceback (most recent call last)",
      "\u001b[0;32m/var/folders/j1/xwlyd2kd5hb4q6nbz5k6s9v80000gn/T/ipykernel_42436/1361343887.py\u001b[0m in \u001b[0;36m<module>\u001b[0;34m\u001b[0m\n\u001b[1;32m      3\u001b[0m \u001b[0mfilepath\u001b[0m \u001b[0;34m=\u001b[0m \u001b[0mPath\u001b[0m\u001b[0;34m(\u001b[0m\u001b[0;34m'/Users/douglaswood/Documents/Postgraduate/Dissertation/Tweet_Data.csv'\u001b[0m\u001b[0;34m)\u001b[0m\u001b[0;34m\u001b[0m\u001b[0;34m\u001b[0m\u001b[0m\n\u001b[1;32m      4\u001b[0m \u001b[0mfilepath\u001b[0m\u001b[0;34m.\u001b[0m\u001b[0mparent\u001b[0m\u001b[0;34m.\u001b[0m\u001b[0mmkdir\u001b[0m\u001b[0;34m(\u001b[0m\u001b[0mparents\u001b[0m\u001b[0;34m=\u001b[0m\u001b[0;32mTrue\u001b[0m\u001b[0;34m,\u001b[0m \u001b[0mexist_ok\u001b[0m\u001b[0;34m=\u001b[0m\u001b[0;32mTrue\u001b[0m\u001b[0;34m)\u001b[0m\u001b[0;34m\u001b[0m\u001b[0;34m\u001b[0m\u001b[0m\n\u001b[0;32m----> 5\u001b[0;31m \u001b[0mTweet_Data\u001b[0m\u001b[0;34m.\u001b[0m\u001b[0mto_csv\u001b[0m\u001b[0;34m(\u001b[0m\u001b[0mfilepath\u001b[0m\u001b[0;34m)\u001b[0m\u001b[0;34m\u001b[0m\u001b[0;34m\u001b[0m\u001b[0m\n\u001b[0m",
      "\u001b[0;31mNameError\u001b[0m: name 'Tweet_Data' is not defined"
     ]
    }
   ],
   "source": [
    "# code taken from here: https://pandas.pydata.org/docs/reference/api/pandas.DataFrame.to_csv.html\n",
    "from pathlib import Path  \n",
    "filepath = Path('/Users/douglaswood/Documents/Postgraduate/Dissertation/Tweet_Data.csv')  \n",
    "filepath.parent.mkdir(parents=True, exist_ok=True)  \n",
    "Tweet_Data.to_csv(filepath)"
   ]
  },
  {
   "cell_type": "code",
   "execution_count": 23,
   "id": "63cd36c7",
   "metadata": {},
   "outputs": [
    {
     "name": "stderr",
     "output_type": "stream",
     "text": [
      "/var/folders/j1/xwlyd2kd5hb4q6nbz5k6s9v80000gn/T/ipykernel_50200/4255032334.py:5: FutureWarning: username is deprecated, use user.username instead\n",
      "  guardiantweets.append([tweet.date, tweet.username, tweet.content])\n"
     ]
    },
    {
     "name": "stdout",
     "output_type": "stream",
     "text": [
      "                          Date      User  \\\n",
      "0    2019-04-30 23:53:47+00:00  guardian   \n",
      "1    2019-04-30 23:36:18+00:00  guardian   \n",
      "2    2019-04-30 23:34:04+00:00  guardian   \n",
      "3    2019-04-30 23:22:55+00:00  guardian   \n",
      "4    2019-04-30 23:16:57+00:00  guardian   \n",
      "...                        ...       ...   \n",
      "5110 2019-04-01 02:43:34+00:00  guardian   \n",
      "5111 2019-04-01 02:21:47+00:00  guardian   \n",
      "5112 2019-04-01 02:14:33+00:00  guardian   \n",
      "5113 2019-04-01 01:33:34+00:00  guardian   \n",
      "5114 2019-04-01 01:24:58+00:00  guardian   \n",
      "\n",
      "                                                  Tweet  \n",
      "0     Mauricio Pochettino defends medical staff afte...  \n",
      "1     White Tory-voting comedian gets place on BBC d...  \n",
      "2     Donny van de Beek presses pause before deliver...  \n",
      "3     Mueller criticized attorney general's depictio...  \n",
      "4     North Carolina shooting: at least two killed a...  \n",
      "...                                                 ...  \n",
      "5110  Comedian Volodymyr Zelenskiy rejoices at first...  \n",
      "5111  Faking your own hate crime? The strange case o...  \n",
      "5112  Faking your own hate crime? The strange case o...  \n",
      "5113  The Cure's Robert Smith offers blunt response ...  \n",
      "5114  The Cure's Robert Smith offers blunt response ...  \n",
      "\n",
      "[5115 rows x 3 columns]\n"
     ]
    }
   ],
   "source": [
    "query = \"(from:Guardian) until:2019-05-01 since:2019-04-01\"\n",
    "guardiantweets = []\n",
    "\n",
    "for tweet in sntwitter.TwitterSearchScraper(query).get_items():\n",
    "        guardiantweets.append([tweet.date, tweet.username, tweet.content])\n",
    "\n",
    "GuardianTweets = pd.DataFrame(guardiantweets, columns=['Date', 'User', 'Tweet'])\n",
    "print(GuardianTweets)\n",
    "Headlines = pd.concat([GuardianTweets, BBCHeadlines])"
   ]
  },
  {
   "cell_type": "code",
   "execution_count": 24,
   "id": "bb9b35f3",
   "metadata": {},
   "outputs": [
    {
     "data": {
      "text/plain": [
       "guardian    5115\n",
       "BBCNews     1574\n",
       "Name: User, dtype: int64"
      ]
     },
     "execution_count": 24,
     "metadata": {},
     "output_type": "execute_result"
    }
   ],
   "source": [
    "Headlines['User'].value_counts()"
   ]
  },
  {
   "cell_type": "code",
   "execution_count": 25,
   "id": "41c731f5",
   "metadata": {},
   "outputs": [
    {
     "name": "stderr",
     "output_type": "stream",
     "text": [
      "/var/folders/j1/xwlyd2kd5hb4q6nbz5k6s9v80000gn/T/ipykernel_50200/1229439388.py:5: FutureWarning: username is deprecated, use user.username instead\n",
      "  mailtweets.append([tweet.date, tweet.username, tweet.content])\n"
     ]
    },
    {
     "name": "stdout",
     "output_type": "stream",
     "text": [
      "                          Date         User  \\\n",
      "0    2019-04-30 22:57:05+00:00  DailyMailUK   \n",
      "1    2019-04-30 22:32:06+00:00  DailyMailUK   \n",
      "2    2019-04-30 22:12:06+00:00  DailyMailUK   \n",
      "3    2019-04-30 21:52:07+00:00  DailyMailUK   \n",
      "4    2019-04-30 21:32:04+00:00  DailyMailUK   \n",
      "...                        ...          ...   \n",
      "2486 2019-04-01 07:05:14+00:00  DailyMailUK   \n",
      "2487 2019-04-01 07:02:01+00:00  DailyMailUK   \n",
      "2488 2019-04-01 06:52:42+00:00  DailyMailUK   \n",
      "2489 2019-04-01 06:39:00+00:00  DailyMailUK   \n",
      "2490 2019-04-01 06:21:04+00:00  DailyMailUK   \n",
      "\n",
      "                                                  Tweet  \n",
      "0     Daughter, 53, left frail 91-year-old mother to...  \n",
      "1     Inside world's biggest 'co-living' development...  \n",
      "2     Vicky McClure discusses her late grandmother's...  \n",
      "3     Mother reveals she feeds ROADKILL to her son, ...  \n",
      "4     Katie Price 'regrets her recent bum and face l...  \n",
      "...                                                 ...  \n",
      "2486  Mother who was so 'obsessed' with having a dau...  \n",
      "2487  Phones4U tycoon John Caudwell pledges to leave...  \n",
      "2488  Princess Beatrice’s new boyfriend joins her an...  \n",
      "2489  Anger as freed paedophile Adam Johnson flashes...  \n",
      "2490  Three men stabbed and one seriously injured in...  \n",
      "\n",
      "[2491 rows x 3 columns]\n"
     ]
    }
   ],
   "source": [
    "query = \"(from:DailyMailUK) until:2019-05-01 since:2019-04-01\"\n",
    "mailtweets = []\n",
    "\n",
    "for tweet in sntwitter.TwitterSearchScraper(query).get_items():\n",
    "        mailtweets.append([tweet.date, tweet.username, tweet.content])\n",
    "\n",
    "MailTweets = pd.DataFrame(mailtweets, columns=['Date', 'User', 'Tweet'])\n",
    "print(MailTweets)\n",
    "Headlines = pd.concat([MailTweets, Headlines])"
   ]
  },
  {
   "cell_type": "code",
   "execution_count": 26,
   "id": "dcac8624",
   "metadata": {},
   "outputs": [
    {
     "name": "stderr",
     "output_type": "stream",
     "text": [
      "/var/folders/j1/xwlyd2kd5hb4q6nbz5k6s9v80000gn/T/ipykernel_50200/846922208.py:5: FutureWarning: username is deprecated, use user.username instead\n",
      "  timestweets.append([tweet.date, tweet.username, tweet.content])\n"
     ]
    },
    {
     "name": "stdout",
     "output_type": "stream",
     "text": [
      "                          Date      User  \\\n",
      "0    2019-04-30 19:04:07+00:00  thetimes   \n",
      "1    2019-04-30 18:50:09+00:00  thetimes   \n",
      "2    2019-04-30 18:22:39+00:00  thetimes   \n",
      "3    2019-04-30 18:08:54+00:00  thetimes   \n",
      "4    2019-04-30 17:55:25+00:00  thetimes   \n",
      "...                        ...       ...   \n",
      "1540 2019-04-01 06:20:50+00:00  thetimes   \n",
      "1541 2019-04-01 06:00:32+00:00  thetimes   \n",
      "1542 2019-04-01 05:40:34+00:00  thetimes   \n",
      "1543 2019-04-01 05:20:55+00:00  thetimes   \n",
      "1544 2019-04-01 05:00:21+00:00  thetimes   \n",
      "\n",
      "                                                  Tweet  \n",
      "0     Jeremy Corbyn wrote the foreword to a book whi...  \n",
      "1     Australian, 21, was filmed swerving into oncom...  \n",
      "2     There were fierce clashes in Caracas today aft...  \n",
      "3     A county cricketer who raped a young woman as ...  \n",
      "4     #Worldatfive: Despite decades in the public ey...  \n",
      "...                                                 ...  \n",
      "1540  The number of non-British drivers trading in t...  \n",
      "1541  A string of senior Tories have condemned a vot...  \n",
      "1542  The average woman earns 10 per cent less than ...  \n",
      "1543  Hamza Parvez, the first Briton to admit public...  \n",
      "1544  Ministers including Chris Grayling and Penny M...  \n",
      "\n",
      "[1545 rows x 3 columns]\n"
     ]
    }
   ],
   "source": [
    "query = \"(from:thetimes) until:2019-05-01 since:2019-04-01\"\n",
    "timestweets = []\n",
    "\n",
    "for tweet in sntwitter.TwitterSearchScraper(query).get_items():\n",
    "        timestweets.append([tweet.date, tweet.username, tweet.content])\n",
    "\n",
    "TimesTweets = pd.DataFrame(timestweets, columns=['Date', 'User', 'Tweet'])\n",
    "print(TimesTweets)\n",
    "Headlines = pd.concat([TimesTweets, Headlines])"
   ]
  },
  {
   "cell_type": "code",
   "execution_count": 27,
   "id": "aa8fb912",
   "metadata": {},
   "outputs": [
    {
     "name": "stderr",
     "output_type": "stream",
     "text": [
      "/var/folders/j1/xwlyd2kd5hb4q6nbz5k6s9v80000gn/T/ipykernel_50200/3784325043.py:5: FutureWarning: username is deprecated, use user.username instead\n",
      "  nyttweets.append([tweet.date, tweet.username, tweet.content])\n"
     ]
    },
    {
     "name": "stdout",
     "output_type": "stream",
     "text": [
      "                          Date     User  \\\n",
      "0    2019-04-30 23:55:05+00:00  nytimes   \n",
      "1    2019-04-30 23:36:00+00:00  nytimes   \n",
      "2    2019-04-30 23:23:33+00:00  nytimes   \n",
      "3    2019-04-30 23:00:04+00:00  nytimes   \n",
      "4    2019-04-30 22:45:04+00:00  nytimes   \n",
      "...                        ...      ...   \n",
      "2494 2019-04-01 01:18:03+00:00  nytimes   \n",
      "2495 2019-04-01 01:00:05+00:00  nytimes   \n",
      "2496 2019-04-01 00:45:06+00:00  nytimes   \n",
      "2497 2019-04-01 00:17:41+00:00  nytimes   \n",
      "2498 2019-04-01 00:00:06+00:00  nytimes   \n",
      "\n",
      "                                                  Tweet  \n",
      "0     2 people were fatally shot and at least 4 othe...  \n",
      "1     The letter adds to the growing evidence of a r...  \n",
      "2     Breaking News: Robert Mueller wrote a letter t...  \n",
      "3     Evening Briefing: Here's what you need to know...  \n",
      "4     In Opinion\\n\\nPamela Druckerman writes: \"My Fr...  \n",
      "...                                                 ...  \n",
      "2494  What to do if a teacher assigns homework that ...  \n",
      "2495  \"The fear that marginalized groups will fall u...  \n",
      "2496  As the trailer for the premiere of “Keeping Up...  \n",
      "2497  Periods can get worse as women age. Sometimes ...  \n",
      "2498  At the Berwyn prison in Wales, prisoners have ...  \n",
      "\n",
      "[2499 rows x 3 columns]\n"
     ]
    }
   ],
   "source": [
    "query = \"(from:nytimes) until:2019-05-01 since:2019-04-01\"\n",
    "nyttweets = []\n",
    "\n",
    "for tweet in sntwitter.TwitterSearchScraper(query).get_items():\n",
    "        nyttweets.append([tweet.date, tweet.username, tweet.content])\n",
    "\n",
    "NYTTweets = pd.DataFrame(nyttweets, columns=['Date', 'User', 'Tweet'])\n",
    "print(NYTTweets)\n",
    "Headlines = pd.concat([NYTTweets, Headlines])"
   ]
  },
  {
   "cell_type": "code",
   "execution_count": 28,
   "id": "39086e91",
   "metadata": {},
   "outputs": [
    {
     "name": "stderr",
     "output_type": "stream",
     "text": [
      "/var/folders/j1/xwlyd2kd5hb4q6nbz5k6s9v80000gn/T/ipykernel_50200/3019517472.py:5: FutureWarning: username is deprecated, use user.username instead\n",
      "  tweets.append([tweet.date, tweet.username, tweet.content])\n"
     ]
    }
   ],
   "source": [
    "query = \"(from:BBCNews) until:2011-05-01 since:2011-04-01\"\n",
    "tweets = []\n",
    "\n",
    "for tweet in sntwitter.TwitterSearchScraper(query).get_items():\n",
    "        tweets.append([tweet.date, tweet.username, tweet.content])"
   ]
  },
  {
   "cell_type": "code",
   "execution_count": 29,
   "id": "4f125064",
   "metadata": {},
   "outputs": [
    {
     "name": "stderr",
     "output_type": "stream",
     "text": [
      "/var/folders/j1/xwlyd2kd5hb4q6nbz5k6s9v80000gn/T/ipykernel_50200/3250833001.py:5: FutureWarning: username is deprecated, use user.username instead\n",
      "  guardiantweets.append([tweet.date, tweet.username, tweet.content])\n"
     ]
    },
    {
     "name": "stdout",
     "output_type": "stream",
     "text": [
      "                         Date      User  \\\n",
      "0   2011-04-30 16:43:26+00:00  guardian   \n",
      "1   2011-04-30 15:37:33+00:00  guardian   \n",
      "2   2011-04-30 14:28:06+00:00  guardian   \n",
      "3   2011-04-30 12:31:51+00:00  guardian   \n",
      "4   2011-04-29 23:00:45+00:00  guardian   \n",
      "..                        ...       ...   \n",
      "379 2011-04-01 08:53:50+00:00  guardian   \n",
      "380 2011-04-01 08:45:40+00:00  guardian   \n",
      "381 2011-04-01 08:44:59+00:00  guardian   \n",
      "382 2011-04-01 08:36:04+00:00  guardian   \n",
      "383 2011-04-01 08:11:49+00:00  guardian   \n",
      "\n",
      "                                                 Tweet  \n",
      "0    Syrian forces storm Deraa mosque http://gu.com...  \n",
      "1    Easy riders: 10 scenic cycle routes around Eng...  \n",
      "2    Royal wedding television audience hit 24m peak...  \n",
      "3    Muammar Gaddafi calls for ceasefire in Libyan ...  \n",
      "4    China 'backsliding on human rights' http://gu....  \n",
      "..                                                 ...  \n",
      "379  @MTPT not at a bad idea that - will tell our f...  \n",
      "380  Latest news from #Libya + fallout from Moussa ...  \n",
      "381          @MTPT don't forget to check the byline...  \n",
      "382  @dan_hutton @burning_ @EmmaJIndigo don't forge...  \n",
      "383  Revealed: Gaddafi envoy in Britain for secret ...  \n",
      "\n",
      "[384 rows x 3 columns]\n"
     ]
    }
   ],
   "source": [
    "query = \"(from:Guardian) until:2011-05-01 since:2011-04-01\"\n",
    "guardiantweets = []\n",
    "\n",
    "for tweet in sntwitter.TwitterSearchScraper(query).get_items():\n",
    "        guardiantweets.append([tweet.date, tweet.username, tweet.content])\n",
    "\n",
    "GuardianTweets = pd.DataFrame(guardiantweets, columns=['Date', 'User', 'Tweet'])\n",
    "print(GuardianTweets)\n",
    "Headlines = pd.concat([Headlines, GuardianTweets])"
   ]
  },
  {
   "cell_type": "code",
   "execution_count": 30,
   "id": "7f894ed5",
   "metadata": {},
   "outputs": [
    {
     "name": "stderr",
     "output_type": "stream",
     "text": [
      "/var/folders/j1/xwlyd2kd5hb4q6nbz5k6s9v80000gn/T/ipykernel_50200/4278278402.py:5: FutureWarning: username is deprecated, use user.username instead\n",
      "  mailtweets.append([tweet.date, tweet.username, tweet.content])\n"
     ]
    },
    {
     "name": "stdout",
     "output_type": "stream",
     "text": [
      "                          Date         User  \\\n",
      "0    2011-04-30 23:55:12+00:00  DailyMailUK   \n",
      "1    2011-04-30 23:55:12+00:00  DailyMailUK   \n",
      "2    2011-04-30 23:55:11+00:00  DailyMailUK   \n",
      "3    2011-04-30 23:55:11+00:00  DailyMailUK   \n",
      "4    2011-04-30 23:24:26+00:00  DailyMailUK   \n",
      "...                        ...          ...   \n",
      "1238 2011-04-01 00:41:48+00:00  DailyMailUK   \n",
      "1239 2011-04-01 00:41:48+00:00  DailyMailUK   \n",
      "1240 2011-04-01 00:41:47+00:00  DailyMailUK   \n",
      "1241 2011-04-01 00:41:47+00:00  DailyMailUK   \n",
      "1242 2011-04-01 00:41:47+00:00  DailyMailUK   \n",
      "\n",
      "                                                  Tweet  \n",
      "0     ROYAL WEDDING: Middletons go home ... £250,000...  \n",
      "1     Royal wedding: Lip-reader reveals just what WA...  \n",
      "2     Royal wedding: Chelsy Davy censors racy Harry ...  \n",
      "3     Royal wedding: Harry pays tribute to William '...  \n",
      "4     Royal Wedding: Kate Middleton's 'secret meetin...  \n",
      "...                                                 ...  \n",
      "1238  Booze Britain: Now fifth of women are drinking...  \n",
      "1239  Fashion student, 27, wins £2.85m in London cou...  \n",
      "1240  Japan nuclear crisis: Fukushima plant to be en...  \n",
      "1241  Steady on, Prince charming: Charles gets carri...  \n",
      "1242  Libya regime faces collapse as 'dirty dozen' f...  \n",
      "\n",
      "[1243 rows x 3 columns]\n"
     ]
    }
   ],
   "source": [
    "query = \"(from:DailyMailUK) until:2011-05-01 since:2011-04-01\"\n",
    "mailtweets = []\n",
    "\n",
    "for tweet in sntwitter.TwitterSearchScraper(query).get_items():\n",
    "        mailtweets.append([tweet.date, tweet.username, tweet.content])\n",
    "\n",
    "MailTweets = pd.DataFrame(mailtweets, columns=['Date', 'User', 'Tweet'])\n",
    "print(MailTweets)\n",
    "Headlines = pd.concat([MailTweets, Headlines])"
   ]
  },
  {
   "cell_type": "code",
   "execution_count": 31,
   "id": "9d16575d",
   "metadata": {},
   "outputs": [
    {
     "name": "stderr",
     "output_type": "stream",
     "text": [
      "/var/folders/j1/xwlyd2kd5hb4q6nbz5k6s9v80000gn/T/ipykernel_50200/981048461.py:5: FutureWarning: username is deprecated, use user.username instead\n",
      "  timestweets.append([tweet.date, tweet.username, tweet.content])\n"
     ]
    },
    {
     "name": "stdout",
     "output_type": "stream",
     "text": [
      "                         Date      User  \\\n",
      "0   2011-04-30 21:45:10+00:00  thetimes   \n",
      "1   2011-04-30 20:42:11+00:00  thetimes   \n",
      "2   2011-04-30 19:39:24+00:00  thetimes   \n",
      "3   2011-04-30 18:36:25+00:00  thetimes   \n",
      "4   2011-04-30 17:33:21+00:00  thetimes   \n",
      "..                        ...       ...   \n",
      "318 2011-04-01 10:46:41+00:00  thetimes   \n",
      "319 2011-04-01 10:46:22+00:00  thetimes   \n",
      "320 2011-04-01 10:36:33+00:00  thetimes   \n",
      "321 2011-04-01 10:31:37+00:00  thetimes   \n",
      "322 2011-04-01 10:24:36+00:00  thetimes   \n",
      "\n",
      "                                                 Tweet  \n",
      "0    The blogger who became a Tunisian government m...  \n",
      "1    QPR seal promotion after Watford win http://go...  \n",
      "2    Advantage Cameron: PM beats tennis legend Bori...  \n",
      "3    QPR seal promotion to the Premier League - for...  \n",
      "4    Royal newlyweds delay honeymoon http://goo.gl/...  \n",
      "..                                                 ...  \n",
      "318  @theartsdesk Congratulations, you made it into...  \n",
      "319  @ace_national Congratulations, you made it int...  \n",
      "320  LAST CHANCE Final instalment of our Rational O...  \n",
      "321                  @digitalspy You are very welcome!  \n",
      "322  Schoolgirl stabbed at school gate  - http://th...  \n",
      "\n",
      "[323 rows x 3 columns]\n"
     ]
    }
   ],
   "source": [
    "query = \"(from:thetimes) until:2011-05-01 since:2011-04-01\"\n",
    "timestweets = []\n",
    "\n",
    "for tweet in sntwitter.TwitterSearchScraper(query).get_items():\n",
    "        timestweets.append([tweet.date, tweet.username, tweet.content])\n",
    "\n",
    "TimesTweets = pd.DataFrame(timestweets, columns=['Date', 'User', 'Tweet'])\n",
    "print(TimesTweets)\n",
    "Headlines = pd.concat([TimesTweets, Headlines])"
   ]
  },
  {
   "cell_type": "code",
   "execution_count": 33,
   "id": "c2467b7f",
   "metadata": {},
   "outputs": [
    {
     "name": "stderr",
     "output_type": "stream",
     "text": [
      "/var/folders/j1/xwlyd2kd5hb4q6nbz5k6s9v80000gn/T/ipykernel_50200/3763499977.py:5: FutureWarning: username is deprecated, use user.username instead\n",
      "  nyttweets.append([tweet.date, tweet.username, tweet.content])\n"
     ]
    },
    {
     "name": "stdout",
     "output_type": "stream",
     "text": [
      "                          Date     User  \\\n",
      "0    2011-04-30 23:52:02+00:00  nytimes   \n",
      "1    2011-04-30 23:18:55+00:00  nytimes   \n",
      "2    2011-04-30 23:00:30+00:00  nytimes   \n",
      "3    2011-04-30 22:50:55+00:00  nytimes   \n",
      "4    2011-04-30 22:50:55+00:00  nytimes   \n",
      "...                        ...      ...   \n",
      "1505 2011-04-01 01:59:31+00:00  nytimes   \n",
      "1506 2011-04-01 01:59:30+00:00  nytimes   \n",
      "1507 2011-04-01 00:55:46+00:00  nytimes   \n",
      "1508 2011-04-01 00:46:26+00:00  nytimes   \n",
      "1509 2011-04-01 00:46:25+00:00  nytimes   \n",
      "\n",
      "                                                  Tweet  \n",
      "0     Son of Qaddafi Killed in NATO Airstrike http:/...  \n",
      "1     Posey Thrives as Dangerous Hitter; Her Brother...  \n",
      "2     Critic’s Notebook: Making the Holocaust the Le...  \n",
      "3     DealBook: Buffett Takes Sharper Tone in Sokol ...  \n",
      "4     Cultural Studies: ‘The Good Wife’ and Its Wome...  \n",
      "...                                                 ...  \n",
      "1505  Liberia Uneasily Linked to Ivory Coast Conflic...  \n",
      "1506  The Choice: When College Was a Buyer’s Bazaar ...  \n",
      "1507  Nixon Library Opens a Door Some Would Prefer L...  \n",
      "1508  ArtsBeat: Deal for Future Seasons of ‘Mad Men’...  \n",
      "1509  In a Victim’s Notes, a Code the F.B.I. Can’t C...  \n",
      "\n",
      "[1510 rows x 3 columns]\n"
     ]
    }
   ],
   "source": [
    "query = \"(from:nytimes) until:2011-05-01 since:2011-04-01\"\n",
    "nyttweets = []\n",
    "\n",
    "for tweet in sntwitter.TwitterSearchScraper(query).get_items():\n",
    "        nyttweets.append([tweet.date, tweet.username, tweet.content])\n",
    "\n",
    "NYTTweets = pd.DataFrame(nyttweets, columns=['Date', 'User', 'Tweet'])\n",
    "print(NYTTweets)\n",
    "Headlines = pd.concat([NYTTweets, Headlines])"
   ]
  },
  {
   "cell_type": "code",
   "execution_count": 34,
   "id": "1dc5fbcf",
   "metadata": {},
   "outputs": [
    {
     "name": "stderr",
     "output_type": "stream",
     "text": [
      "/var/folders/j1/xwlyd2kd5hb4q6nbz5k6s9v80000gn/T/ipykernel_50200/399188406.py:5: FutureWarning: username is deprecated, use user.username instead\n",
      "  nyttweets.append([tweet.date, tweet.username, tweet.content])\n"
     ]
    },
    {
     "name": "stdout",
     "output_type": "stream",
     "text": [
      "                          Date            User  \\\n",
      "0    2011-04-30 23:30:05+00:00  washingtonpost   \n",
      "1    2011-04-30 23:24:56+00:00  washingtonpost   \n",
      "2    2011-04-30 23:14:18+00:00  washingtonpost   \n",
      "3    2011-04-30 23:09:58+00:00  washingtonpost   \n",
      "4    2011-04-30 23:00:11+00:00  washingtonpost   \n",
      "...                        ...             ...   \n",
      "1773 2011-04-01 00:45:03+00:00  washingtonpost   \n",
      "1774 2011-04-01 00:30:04+00:00  washingtonpost   \n",
      "1775 2011-04-01 00:26:22+00:00  washingtonpost   \n",
      "1776 2011-04-01 00:26:22+00:00  washingtonpost   \n",
      "1777 2011-04-01 00:00:36+00:00  washingtonpost   \n",
      "\n",
      "                                                  Tweet  \n",
      "0     Aboard the last MARC train of the night, rider...  \n",
      "1     RT @MrDanZak: First in the #whcd ballroom: Boe...  \n",
      "2     RT @MrDanZak: Requisite protesters outside #wh...  \n",
      "3     NATO missile kills Gaddafi's youngest son, thr...  \n",
      "4     International theft rings steal hundreds of ve...  \n",
      "...                                                 ...  \n",
      "1773  Warner to introduce bill to revoke reserved pl...  \n",
      "1774  Inspector general finds SEC practices might co...  \n",
      "1775  Misssssssing for nearly a week, Bronx Zoo cobr...  \n",
      "1776  Japan ‘tankan’ survey shows improving business...  \n",
      "1777  #DWTS's Carrie Ann Inaba gets engaged on ‘Regi...  \n",
      "\n",
      "[1778 rows x 3 columns]\n"
     ]
    }
   ],
   "source": [
    "query = \"(from:washingtonpost) until:2011-05-01 since:2011-04-01\"\n",
    "nyttweets = []\n",
    "\n",
    "for tweet in sntwitter.TwitterSearchScraper(query).get_items():\n",
    "        nyttweets.append([tweet.date, tweet.username, tweet.content])\n",
    "\n",
    "NYTTweets = pd.DataFrame(nyttweets, columns=['Date', 'User', 'Tweet'])\n",
    "print(NYTTweets)\n",
    "Headlines = pd.concat([NYTTweets, Headlines])"
   ]
  },
  {
   "cell_type": "code",
   "execution_count": 35,
   "id": "85608c6e",
   "metadata": {},
   "outputs": [
    {
     "name": "stderr",
     "output_type": "stream",
     "text": [
      "/var/folders/j1/xwlyd2kd5hb4q6nbz5k6s9v80000gn/T/ipykernel_50200/2557877156.py:5: FutureWarning: username is deprecated, use user.username instead\n",
      "  nyttweets.append([tweet.date, tweet.username, tweet.content])\n"
     ]
    },
    {
     "name": "stdout",
     "output_type": "stream",
     "text": [
      "                          Date            User  \\\n",
      "0    2019-04-30 23:59:03+00:00  washingtonpost   \n",
      "1    2019-04-30 23:47:03+00:00  washingtonpost   \n",
      "2    2019-04-30 23:46:02+00:00  washingtonpost   \n",
      "3    2019-04-30 23:24:22+00:00  washingtonpost   \n",
      "4    2019-04-30 23:20:06+00:00  washingtonpost   \n",
      "...                        ...             ...   \n",
      "3712 2019-04-01 01:50:54+00:00  washingtonpost   \n",
      "3713 2019-04-01 01:20:48+00:00  washingtonpost   \n",
      "3714 2019-04-01 00:55:41+00:00  washingtonpost   \n",
      "3715 2019-04-01 00:25:41+00:00  washingtonpost   \n",
      "3716 2019-04-01 00:10:49+00:00  washingtonpost   \n",
      "\n",
      "                                                  Tweet  \n",
      "0     Opinion: Republicans want Trump to give up on ...  \n",
      "1     We asked the experts what makes a great fighti...  \n",
      "2     A high-ranking lawyer claims her CEO directed ...  \n",
      "3     University shooting leaves 2 dead, others with...  \n",
      "4     Ady Barkan, activist with ALS, testifies in fa...  \n",
      "...                                                 ...  \n",
      "3712  \"Sleep is critical to human existence\": Judge ...  \n",
      "3713  Perspective: Most people think local journalis...  \n",
      "3714  Opinion: If the GOP built their ideal health-c...  \n",
      "3715  Joe Biden’s affectionate, physical style with ...  \n",
      "3716  Review: Worried that \"Barry\" can’t possibly ou...  \n",
      "\n",
      "[3717 rows x 3 columns]\n"
     ]
    }
   ],
   "source": [
    "query = \"(from:washingtonpost) until:2019-05-01 since:2019-04-01\"\n",
    "nyttweets = []\n",
    "\n",
    "for tweet in sntwitter.TwitterSearchScraper(query).get_items():\n",
    "        nyttweets.append([tweet.date, tweet.username, tweet.content])\n",
    "\n",
    "NYTTweets = pd.DataFrame(nyttweets, columns=['Date', 'User', 'Tweet'])\n",
    "print(NYTTweets)\n",
    "Headlines = pd.concat([NYTTweets, Headlines])"
   ]
  },
  {
   "cell_type": "code",
   "execution_count": 30,
   "id": "dfd1b80e",
   "metadata": {},
   "outputs": [],
   "source": [
    "# code taken from here: https://pandas.pydata.org/docs/reference/api/pandas.DataFrame.to_csv.html\n",
    "from pathlib import Path  \n",
    "filepath = Path('/Users/douglaswood/Documents/Postgraduate/Dissertation/Headlines.csv')  \n",
    "filepath.parent.mkdir(parents=True, exist_ok=True)  \n",
    "Headlines.to_csv(filepath)"
   ]
  },
  {
   "cell_type": "code",
   "execution_count": 20,
   "id": "61e8c1ad",
   "metadata": {},
   "outputs": [
    {
     "data": {
      "text/plain": [
       "guardian       5499\n",
       "DailyMailUK    3734\n",
       "nytimes        2499\n",
       "thetimes       1868\n",
       "BBCNews        1574\n",
       "Name: User, dtype: int64"
      ]
     },
     "execution_count": 20,
     "metadata": {},
     "output_type": "execute_result"
    }
   ],
   "source": [
    "Headlines['User'].value_counts()"
   ]
  },
  {
   "cell_type": "code",
   "execution_count": 36,
   "id": "38ec44c0",
   "metadata": {},
   "outputs": [
    {
     "name": "stdout",
     "output_type": "stream",
     "text": [
      "                          Date     User  \\\n",
      "0    2011-04-30 23:37:12+00:00  BBCNews   \n",
      "1    2011-04-30 23:06:02+00:00  BBCNews   \n",
      "2    2011-04-30 22:33:47+00:00  BBCNews   \n",
      "3    2011-04-30 21:06:09+00:00  BBCNews   \n",
      "4    2011-04-30 19:30:00+00:00  BBCNews   \n",
      "...                        ...      ...   \n",
      "2677 2011-04-01 02:30:57+00:00  BBCNews   \n",
      "2678 2011-04-01 02:30:57+00:00  BBCNews   \n",
      "2679 2011-04-01 01:59:46+00:00  BBCNews   \n",
      "2680 2011-04-01 01:28:42+00:00  BBCNews   \n",
      "2681 2011-04-01 00:58:20+00:00  BBCNews   \n",
      "\n",
      "                                                  Tweet  \n",
      "0                 Breathing is fun http://bbc.in/lMZUua  \n",
      "1     Nato strike 'kills Gaddafi's son' http://bbc.i...  \n",
      "2     Buffett admits 'mistake' on Sokol http://bbc.i...  \n",
      "3     War historian Richard Holmes dies http://bbc.i...  \n",
      "4     Absent Ahmadinejad prompts debate http://bbc.i...  \n",
      "...                                                 ...  \n",
      "2677  Japan sentiment up, threat looms http://bbc.in...  \n",
      "2678  Secure unit beds 'being blocked' http://bbc.in...  \n",
      "2679  Fierce battle in Ivory Coast city http://bbc.i...  \n",
      "2680  Argentine torture general jailed http://bbc.in...  \n",
      "2681  Midwife shortage 'costs 1m lives' http://bbc.i...  \n",
      "\n",
      "[2682 rows x 3 columns]\n"
     ]
    }
   ],
   "source": [
    "BBCHeadlines = pd.DataFrame(tweets, columns=['Date', 'User', 'Tweet'])\n",
    "print(BBCHeadlines)\n",
    "Headlines = pd.concat([Headlines, BBCHeadlines])"
   ]
  },
  {
   "cell_type": "code",
   "execution_count": 38,
   "id": "c2502e57",
   "metadata": {},
   "outputs": [
    {
     "data": {
      "text/plain": [
       "guardian          5499\n",
       "washingtonpost    5495\n",
       "BBCNews           4256\n",
       "nytimes           4009\n",
       "DailyMailUK       3734\n",
       "thetimes          1868\n",
       "Name: User, dtype: int64"
      ]
     },
     "execution_count": 38,
     "metadata": {},
     "output_type": "execute_result"
    }
   ],
   "source": [
    "Headlines['User'].value_counts()"
   ]
  },
  {
   "cell_type": "code",
   "execution_count": 39,
   "id": "548db177",
   "metadata": {},
   "outputs": [
    {
     "data": {
      "text/html": [
       "<div>\n",
       "<style scoped>\n",
       "    .dataframe tbody tr th:only-of-type {\n",
       "        vertical-align: middle;\n",
       "    }\n",
       "\n",
       "    .dataframe tbody tr th {\n",
       "        vertical-align: top;\n",
       "    }\n",
       "\n",
       "    .dataframe thead th {\n",
       "        text-align: right;\n",
       "    }\n",
       "</style>\n",
       "<table border=\"1\" class=\"dataframe\">\n",
       "  <thead>\n",
       "    <tr style=\"text-align: right;\">\n",
       "      <th></th>\n",
       "      <th>Date</th>\n",
       "      <th>User</th>\n",
       "      <th>Tweet</th>\n",
       "    </tr>\n",
       "  </thead>\n",
       "  <tbody>\n",
       "    <tr>\n",
       "      <th>0</th>\n",
       "      <td>2019-04-30 23:59:03+00:00</td>\n",
       "      <td>washingtonpost</td>\n",
       "      <td>Opinion: Republicans want Trump to give up on ...</td>\n",
       "    </tr>\n",
       "    <tr>\n",
       "      <th>1</th>\n",
       "      <td>2019-04-30 23:47:03+00:00</td>\n",
       "      <td>washingtonpost</td>\n",
       "      <td>We asked the experts what makes a great fighti...</td>\n",
       "    </tr>\n",
       "    <tr>\n",
       "      <th>2</th>\n",
       "      <td>2019-04-30 23:46:02+00:00</td>\n",
       "      <td>washingtonpost</td>\n",
       "      <td>A high-ranking lawyer claims her CEO directed ...</td>\n",
       "    </tr>\n",
       "    <tr>\n",
       "      <th>3</th>\n",
       "      <td>2019-04-30 23:24:22+00:00</td>\n",
       "      <td>washingtonpost</td>\n",
       "      <td>University shooting leaves 2 dead, others with...</td>\n",
       "    </tr>\n",
       "    <tr>\n",
       "      <th>4</th>\n",
       "      <td>2019-04-30 23:20:06+00:00</td>\n",
       "      <td>washingtonpost</td>\n",
       "      <td>Ady Barkan, activist with ALS, testifies in fa...</td>\n",
       "    </tr>\n",
       "    <tr>\n",
       "      <th>...</th>\n",
       "      <td>...</td>\n",
       "      <td>...</td>\n",
       "      <td>...</td>\n",
       "    </tr>\n",
       "    <tr>\n",
       "      <th>2677</th>\n",
       "      <td>2011-04-01 02:30:57+00:00</td>\n",
       "      <td>BBCNews</td>\n",
       "      <td>Japan sentiment up, threat looms http://bbc.in...</td>\n",
       "    </tr>\n",
       "    <tr>\n",
       "      <th>2678</th>\n",
       "      <td>2011-04-01 02:30:57+00:00</td>\n",
       "      <td>BBCNews</td>\n",
       "      <td>Secure unit beds 'being blocked' http://bbc.in...</td>\n",
       "    </tr>\n",
       "    <tr>\n",
       "      <th>2679</th>\n",
       "      <td>2011-04-01 01:59:46+00:00</td>\n",
       "      <td>BBCNews</td>\n",
       "      <td>Fierce battle in Ivory Coast city http://bbc.i...</td>\n",
       "    </tr>\n",
       "    <tr>\n",
       "      <th>2680</th>\n",
       "      <td>2011-04-01 01:28:42+00:00</td>\n",
       "      <td>BBCNews</td>\n",
       "      <td>Argentine torture general jailed http://bbc.in...</td>\n",
       "    </tr>\n",
       "    <tr>\n",
       "      <th>2681</th>\n",
       "      <td>2011-04-01 00:58:20+00:00</td>\n",
       "      <td>BBCNews</td>\n",
       "      <td>Midwife shortage 'costs 1m lives' http://bbc.i...</td>\n",
       "    </tr>\n",
       "  </tbody>\n",
       "</table>\n",
       "<p>24861 rows × 3 columns</p>\n",
       "</div>"
      ],
      "text/plain": [
       "                          Date            User  \\\n",
       "0    2019-04-30 23:59:03+00:00  washingtonpost   \n",
       "1    2019-04-30 23:47:03+00:00  washingtonpost   \n",
       "2    2019-04-30 23:46:02+00:00  washingtonpost   \n",
       "3    2019-04-30 23:24:22+00:00  washingtonpost   \n",
       "4    2019-04-30 23:20:06+00:00  washingtonpost   \n",
       "...                        ...             ...   \n",
       "2677 2011-04-01 02:30:57+00:00         BBCNews   \n",
       "2678 2011-04-01 02:30:57+00:00         BBCNews   \n",
       "2679 2011-04-01 01:59:46+00:00         BBCNews   \n",
       "2680 2011-04-01 01:28:42+00:00         BBCNews   \n",
       "2681 2011-04-01 00:58:20+00:00         BBCNews   \n",
       "\n",
       "                                                  Tweet  \n",
       "0     Opinion: Republicans want Trump to give up on ...  \n",
       "1     We asked the experts what makes a great fighti...  \n",
       "2     A high-ranking lawyer claims her CEO directed ...  \n",
       "3     University shooting leaves 2 dead, others with...  \n",
       "4     Ady Barkan, activist with ALS, testifies in fa...  \n",
       "...                                                 ...  \n",
       "2677  Japan sentiment up, threat looms http://bbc.in...  \n",
       "2678  Secure unit beds 'being blocked' http://bbc.in...  \n",
       "2679  Fierce battle in Ivory Coast city http://bbc.i...  \n",
       "2680  Argentine torture general jailed http://bbc.in...  \n",
       "2681  Midwife shortage 'costs 1m lives' http://bbc.i...  \n",
       "\n",
       "[24861 rows x 3 columns]"
      ]
     },
     "execution_count": 39,
     "metadata": {},
     "output_type": "execute_result"
    }
   ],
   "source": [
    "Headlines"
   ]
  },
  {
   "cell_type": "code",
   "execution_count": 40,
   "id": "c8642f91",
   "metadata": {},
   "outputs": [],
   "source": [
    "# code taken from here: https://pandas.pydata.org/docs/reference/api/pandas.DataFrame.to_csv.html\n",
    "from pathlib import Path  \n",
    "filepath = Path('/Users/douglaswood/Documents/Postgraduate/Dissertation/Headlines.csv')  \n",
    "filepath.parent.mkdir(parents=True, exist_ok=True)  \n",
    "Headlines.to_csv(filepath)"
   ]
  },
  {
   "cell_type": "code",
   "execution_count": null,
   "id": "624392f3",
   "metadata": {},
   "outputs": [],
   "source": []
  },
  {
   "cell_type": "code",
   "execution_count": null,
   "id": "f50fa701",
   "metadata": {},
   "outputs": [],
   "source": []
  },
  {
   "cell_type": "code",
   "execution_count": null,
   "id": "24572cf3",
   "metadata": {},
   "outputs": [],
   "source": []
  },
  {
   "cell_type": "code",
   "execution_count": null,
   "id": "327722da",
   "metadata": {},
   "outputs": [],
   "source": []
  }
 ],
 "metadata": {
  "kernelspec": {
   "display_name": "Python 3 (ipykernel)",
   "language": "python",
   "name": "python3"
  },
  "language_info": {
   "codemirror_mode": {
    "name": "ipython",
    "version": 3
   },
   "file_extension": ".py",
   "mimetype": "text/x-python",
   "name": "python",
   "nbconvert_exporter": "python",
   "pygments_lexer": "ipython3",
   "version": "3.8.13"
  }
 },
 "nbformat": 4,
 "nbformat_minor": 5
}
